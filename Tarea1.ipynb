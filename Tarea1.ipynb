{
 "cells": [
  {
   "cell_type": "markdown",
   "metadata": {
    "slideshow": {
     "slide_type": "slide"
    }
   },
   "source": [
    "## Tarea 1 -Máquinas de Aprendizaje\n",
    "#### Yoel Berant - 201604519-8\n",
    "#### Diego Valderas - 201673549-6"
   ]
  },
  {
   "cell_type": "code",
   "execution_count": 38,
   "metadata": {
    "slideshow": {
     "slide_type": "slide"
    }
   },
   "outputs": [],
   "source": [
    "import pandas as pd\n",
    "import numpy as np\n",
    "import scipy as scp\n",
    "import matplotlib.pyplot as plt\n",
    "from sklearn.preprocessing import StandardScaler\n",
    "from sklearn.linear_model import LinearRegression, Ridge, Lasso, Perceptron\n",
    "from sklearn.metrics import mean_absolute_error, mean_squared_error\n",
    "from sklearn.model_selection import KFold, LeaveOneOut\n",
    "from ipywidgets import interact,interactive, fixed\n",
    "import seaborn as sns\n",
    "from sklearn.metrics import accuracy_score\n",
    "from sklearn.decomposition import PCA, FastICA\n",
    "import statsmodels.api as sm"
   ]
  },
  {
   "cell_type": "markdown",
   "metadata": {
    "slideshow": {
     "slide_type": "slide"
    }
   },
   "source": [
    "## Sección 1. Máquinas de aprendizaje aplicadas a la medicina\n",
    "\n",
    "En el mundo de la medicina, hacer una predicción correcta a partir de los síntomas de un paciente puede significar la vida o la muerte. Es por eso que la implementación de máquinas de aprendizaje en la medicina tiene una relevancia enorme. En esta sección, se cuenta con un dataset, 'heart', el cual contiene el registro de los síntomas de varios pacientes. El objetivo es desarrollar un modelo capaz de predecir, a partir de los síntomas, si cada uno de los pacientes están en riesgo de un infarto.\n",
    "\n",
    "A continuación, se importa el dataset:"
   ]
  },
  {
   "cell_type": "code",
   "execution_count": 39,
   "metadata": {
    "slideshow": {
     "slide_type": "slide"
    }
   },
   "outputs": [
    {
     "ename": "FileNotFoundError",
     "evalue": "File b'heart.dat' does not exist",
     "output_type": "error",
     "traceback": [
      "\u001b[1;31m---------------------------------------------------------------------------\u001b[0m",
      "\u001b[1;31mFileNotFoundError\u001b[0m                         Traceback (most recent call last)",
      "\u001b[1;32m<ipython-input-39-ca37868c76cb>\u001b[0m in \u001b[0;36m<module>\u001b[1;34m()\u001b[0m\n\u001b[0;32m      1\u001b[0m \u001b[0mheaders\u001b[0m \u001b[1;33m=\u001b[0m \u001b[1;33m[\u001b[0m\u001b[1;34m'age'\u001b[0m\u001b[1;33m,\u001b[0m\u001b[1;34m'sex'\u001b[0m\u001b[1;33m,\u001b[0m\u001b[1;34m'chest_pain'\u001b[0m\u001b[1;33m,\u001b[0m\u001b[1;34m'blood_p'\u001b[0m\u001b[1;33m,\u001b[0m\u001b[1;34m'serum'\u001b[0m\u001b[1;33m,\u001b[0m\u001b[1;34m'blood_s'\u001b[0m\u001b[1;33m,\u001b[0m\u001b[1;34m'electro'\u001b[0m\u001b[1;33m,\u001b[0m\u001b[1;34m'max_heart'\u001b[0m\u001b[1;33m,\u001b[0m \u001b[1;34m'angina'\u001b[0m\u001b[1;33m,\u001b[0m\u001b[1;34m'oldpeak'\u001b[0m\u001b[1;33m,\u001b[0m\u001b[1;34m'slope'\u001b[0m\u001b[1;33m,\u001b[0m\u001b[1;34m'vessel'\u001b[0m\u001b[1;33m,\u001b[0m\u001b[1;34m'thal'\u001b[0m\u001b[1;33m,\u001b[0m\u001b[1;34m'normal'\u001b[0m\u001b[1;33m]\u001b[0m\u001b[1;33m\u001b[0m\u001b[0m\n\u001b[1;32m----> 2\u001b[1;33m \u001b[0mdf\u001b[0m \u001b[1;33m=\u001b[0m \u001b[0mpd\u001b[0m\u001b[1;33m.\u001b[0m\u001b[0mread_csv\u001b[0m\u001b[1;33m(\u001b[0m\u001b[1;34m\"heart.dat\"\u001b[0m\u001b[1;33m,\u001b[0m \u001b[0mheader\u001b[0m\u001b[1;33m=\u001b[0m\u001b[1;32mNone\u001b[0m\u001b[1;33m,\u001b[0m \u001b[0mnames\u001b[0m\u001b[1;33m=\u001b[0m\u001b[0mheaders\u001b[0m\u001b[1;33m,\u001b[0m \u001b[0msep\u001b[0m\u001b[1;33m=\u001b[0m\u001b[1;34m' '\u001b[0m\u001b[1;33m)\u001b[0m\u001b[1;33m\u001b[0m\u001b[0m\n\u001b[0m\u001b[0;32m      3\u001b[0m \u001b[1;33m\u001b[0m\u001b[0m\n\u001b[0;32m      4\u001b[0m \u001b[1;33m\u001b[0m\u001b[0m\n\u001b[0;32m      5\u001b[0m \u001b[0mdf\u001b[0m\u001b[1;33m[\u001b[0m\u001b[1;34m'sex'\u001b[0m\u001b[1;33m]\u001b[0m\u001b[1;33m[\u001b[0m\u001b[0mdf\u001b[0m\u001b[1;33m[\u001b[0m\u001b[1;34m'sex'\u001b[0m\u001b[1;33m]\u001b[0m \u001b[1;33m==\u001b[0m \u001b[1;36m0\u001b[0m\u001b[1;33m]\u001b[0m \u001b[1;33m=\u001b[0m \u001b[1;34m'female'\u001b[0m\u001b[1;33m\u001b[0m\u001b[0m\n",
      "\u001b[1;32m~\\Anaconda3\\lib\\site-packages\\pandas\\io\\parsers.py\u001b[0m in \u001b[0;36mparser_f\u001b[1;34m(filepath_or_buffer, sep, delimiter, header, names, index_col, usecols, squeeze, prefix, mangle_dupe_cols, dtype, engine, converters, true_values, false_values, skipinitialspace, skiprows, nrows, na_values, keep_default_na, na_filter, verbose, skip_blank_lines, parse_dates, infer_datetime_format, keep_date_col, date_parser, dayfirst, iterator, chunksize, compression, thousands, decimal, lineterminator, quotechar, quoting, escapechar, comment, encoding, dialect, tupleize_cols, error_bad_lines, warn_bad_lines, skipfooter, doublequote, delim_whitespace, low_memory, memory_map, float_precision)\u001b[0m\n\u001b[0;32m    676\u001b[0m                     skip_blank_lines=skip_blank_lines)\n\u001b[0;32m    677\u001b[0m \u001b[1;33m\u001b[0m\u001b[0m\n\u001b[1;32m--> 678\u001b[1;33m         \u001b[1;32mreturn\u001b[0m \u001b[0m_read\u001b[0m\u001b[1;33m(\u001b[0m\u001b[0mfilepath_or_buffer\u001b[0m\u001b[1;33m,\u001b[0m \u001b[0mkwds\u001b[0m\u001b[1;33m)\u001b[0m\u001b[1;33m\u001b[0m\u001b[0m\n\u001b[0m\u001b[0;32m    679\u001b[0m \u001b[1;33m\u001b[0m\u001b[0m\n\u001b[0;32m    680\u001b[0m     \u001b[0mparser_f\u001b[0m\u001b[1;33m.\u001b[0m\u001b[0m__name__\u001b[0m \u001b[1;33m=\u001b[0m \u001b[0mname\u001b[0m\u001b[1;33m\u001b[0m\u001b[0m\n",
      "\u001b[1;32m~\\Anaconda3\\lib\\site-packages\\pandas\\io\\parsers.py\u001b[0m in \u001b[0;36m_read\u001b[1;34m(filepath_or_buffer, kwds)\u001b[0m\n\u001b[0;32m    438\u001b[0m \u001b[1;33m\u001b[0m\u001b[0m\n\u001b[0;32m    439\u001b[0m     \u001b[1;31m# Create the parser.\u001b[0m\u001b[1;33m\u001b[0m\u001b[1;33m\u001b[0m\u001b[0m\n\u001b[1;32m--> 440\u001b[1;33m     \u001b[0mparser\u001b[0m \u001b[1;33m=\u001b[0m \u001b[0mTextFileReader\u001b[0m\u001b[1;33m(\u001b[0m\u001b[0mfilepath_or_buffer\u001b[0m\u001b[1;33m,\u001b[0m \u001b[1;33m**\u001b[0m\u001b[0mkwds\u001b[0m\u001b[1;33m)\u001b[0m\u001b[1;33m\u001b[0m\u001b[0m\n\u001b[0m\u001b[0;32m    441\u001b[0m \u001b[1;33m\u001b[0m\u001b[0m\n\u001b[0;32m    442\u001b[0m     \u001b[1;32mif\u001b[0m \u001b[0mchunksize\u001b[0m \u001b[1;32mor\u001b[0m \u001b[0miterator\u001b[0m\u001b[1;33m:\u001b[0m\u001b[1;33m\u001b[0m\u001b[0m\n",
      "\u001b[1;32m~\\Anaconda3\\lib\\site-packages\\pandas\\io\\parsers.py\u001b[0m in \u001b[0;36m__init__\u001b[1;34m(self, f, engine, **kwds)\u001b[0m\n\u001b[0;32m    785\u001b[0m             \u001b[0mself\u001b[0m\u001b[1;33m.\u001b[0m\u001b[0moptions\u001b[0m\u001b[1;33m[\u001b[0m\u001b[1;34m'has_index_names'\u001b[0m\u001b[1;33m]\u001b[0m \u001b[1;33m=\u001b[0m \u001b[0mkwds\u001b[0m\u001b[1;33m[\u001b[0m\u001b[1;34m'has_index_names'\u001b[0m\u001b[1;33m]\u001b[0m\u001b[1;33m\u001b[0m\u001b[0m\n\u001b[0;32m    786\u001b[0m \u001b[1;33m\u001b[0m\u001b[0m\n\u001b[1;32m--> 787\u001b[1;33m         \u001b[0mself\u001b[0m\u001b[1;33m.\u001b[0m\u001b[0m_make_engine\u001b[0m\u001b[1;33m(\u001b[0m\u001b[0mself\u001b[0m\u001b[1;33m.\u001b[0m\u001b[0mengine\u001b[0m\u001b[1;33m)\u001b[0m\u001b[1;33m\u001b[0m\u001b[0m\n\u001b[0m\u001b[0;32m    788\u001b[0m \u001b[1;33m\u001b[0m\u001b[0m\n\u001b[0;32m    789\u001b[0m     \u001b[1;32mdef\u001b[0m \u001b[0mclose\u001b[0m\u001b[1;33m(\u001b[0m\u001b[0mself\u001b[0m\u001b[1;33m)\u001b[0m\u001b[1;33m:\u001b[0m\u001b[1;33m\u001b[0m\u001b[0m\n",
      "\u001b[1;32m~\\Anaconda3\\lib\\site-packages\\pandas\\io\\parsers.py\u001b[0m in \u001b[0;36m_make_engine\u001b[1;34m(self, engine)\u001b[0m\n\u001b[0;32m   1012\u001b[0m     \u001b[1;32mdef\u001b[0m \u001b[0m_make_engine\u001b[0m\u001b[1;33m(\u001b[0m\u001b[0mself\u001b[0m\u001b[1;33m,\u001b[0m \u001b[0mengine\u001b[0m\u001b[1;33m=\u001b[0m\u001b[1;34m'c'\u001b[0m\u001b[1;33m)\u001b[0m\u001b[1;33m:\u001b[0m\u001b[1;33m\u001b[0m\u001b[0m\n\u001b[0;32m   1013\u001b[0m         \u001b[1;32mif\u001b[0m \u001b[0mengine\u001b[0m \u001b[1;33m==\u001b[0m \u001b[1;34m'c'\u001b[0m\u001b[1;33m:\u001b[0m\u001b[1;33m\u001b[0m\u001b[0m\n\u001b[1;32m-> 1014\u001b[1;33m             \u001b[0mself\u001b[0m\u001b[1;33m.\u001b[0m\u001b[0m_engine\u001b[0m \u001b[1;33m=\u001b[0m \u001b[0mCParserWrapper\u001b[0m\u001b[1;33m(\u001b[0m\u001b[0mself\u001b[0m\u001b[1;33m.\u001b[0m\u001b[0mf\u001b[0m\u001b[1;33m,\u001b[0m \u001b[1;33m**\u001b[0m\u001b[0mself\u001b[0m\u001b[1;33m.\u001b[0m\u001b[0moptions\u001b[0m\u001b[1;33m)\u001b[0m\u001b[1;33m\u001b[0m\u001b[0m\n\u001b[0m\u001b[0;32m   1015\u001b[0m         \u001b[1;32melse\u001b[0m\u001b[1;33m:\u001b[0m\u001b[1;33m\u001b[0m\u001b[0m\n\u001b[0;32m   1016\u001b[0m             \u001b[1;32mif\u001b[0m \u001b[0mengine\u001b[0m \u001b[1;33m==\u001b[0m \u001b[1;34m'python'\u001b[0m\u001b[1;33m:\u001b[0m\u001b[1;33m\u001b[0m\u001b[0m\n",
      "\u001b[1;32m~\\Anaconda3\\lib\\site-packages\\pandas\\io\\parsers.py\u001b[0m in \u001b[0;36m__init__\u001b[1;34m(self, src, **kwds)\u001b[0m\n\u001b[0;32m   1706\u001b[0m         \u001b[0mkwds\u001b[0m\u001b[1;33m[\u001b[0m\u001b[1;34m'usecols'\u001b[0m\u001b[1;33m]\u001b[0m \u001b[1;33m=\u001b[0m \u001b[0mself\u001b[0m\u001b[1;33m.\u001b[0m\u001b[0musecols\u001b[0m\u001b[1;33m\u001b[0m\u001b[0m\n\u001b[0;32m   1707\u001b[0m \u001b[1;33m\u001b[0m\u001b[0m\n\u001b[1;32m-> 1708\u001b[1;33m         \u001b[0mself\u001b[0m\u001b[1;33m.\u001b[0m\u001b[0m_reader\u001b[0m \u001b[1;33m=\u001b[0m \u001b[0mparsers\u001b[0m\u001b[1;33m.\u001b[0m\u001b[0mTextReader\u001b[0m\u001b[1;33m(\u001b[0m\u001b[0msrc\u001b[0m\u001b[1;33m,\u001b[0m \u001b[1;33m**\u001b[0m\u001b[0mkwds\u001b[0m\u001b[1;33m)\u001b[0m\u001b[1;33m\u001b[0m\u001b[0m\n\u001b[0m\u001b[0;32m   1709\u001b[0m \u001b[1;33m\u001b[0m\u001b[0m\n\u001b[0;32m   1710\u001b[0m         \u001b[0mpassed_names\u001b[0m \u001b[1;33m=\u001b[0m \u001b[0mself\u001b[0m\u001b[1;33m.\u001b[0m\u001b[0mnames\u001b[0m \u001b[1;32mis\u001b[0m \u001b[1;32mNone\u001b[0m\u001b[1;33m\u001b[0m\u001b[0m\n",
      "\u001b[1;32mpandas\\_libs\\parsers.pyx\u001b[0m in \u001b[0;36mpandas._libs.parsers.TextReader.__cinit__\u001b[1;34m()\u001b[0m\n",
      "\u001b[1;32mpandas\\_libs\\parsers.pyx\u001b[0m in \u001b[0;36mpandas._libs.parsers.TextReader._setup_parser_source\u001b[1;34m()\u001b[0m\n",
      "\u001b[1;31mFileNotFoundError\u001b[0m: File b'heart.dat' does not exist"
     ]
    }
   ],
   "source": [
    "headers = ['age','sex','chest_pain','blood_p','serum','blood_s','electro','max_heart', 'angina','oldpeak','slope','vessel','thal','normal']\n",
    "df = pd.read_csv(\"heart.dat\", header=None, names=headers, sep=' ')\n",
    "\n",
    "\n",
    "df['sex'][df['sex'] == 0] = 'female'\n",
    "df['sex'][df['sex'] == 1] = 'male'\n",
    "df['chest_pain'][df['chest_pain'] == 1] = 'typical angina'\n",
    "df['chest_pain'][df['chest_pain'] == 2] = 'atypical angina'\n",
    "df['chest_pain'][df['chest_pain'] == 3] = 'non-anginal pain'\n",
    "df['chest_pain'][df['chest_pain'] == 4] = 'asymptomatic'\n",
    "df['blood_s'][df['blood_s'] == 0] = 'lower than 120mg/ml'\n",
    "df['blood_s'][df['blood_s'] == 1] = 'greater than 120mg/ml'\n",
    "df['electro'][df['electro'] == 0] = 'normal'\n",
    "df['electro'][df['electro'] == 1] = 'ST-T wave abnormality'\n",
    "df['electro'][df['electro'] == 2] = 'left ventricular hypertrophy'\n",
    "df['angina'][df['angina'] == 0] = 'no'\n",
    "df['angina'][df['angina'] == 1] = 'yes'\n",
    "df['slope'][df['slope'] == 1] = 'upsloping'\n",
    "df['slope'][df['slope'] == 2] = 'flat'\n",
    "df['slope'][df['slope'] == 3] = 'downsloping'\n",
    "df['thal'][df['thal'] == 3] = 'normal'\n",
    "df['thal'][df['thal'] == 6] = 'fixed defect'\n",
    "df['thal'][df['thal'] == 7] = 'reversable defect'\n",
    "DF=df"
   ]
  },
  {
   "cell_type": "markdown",
   "metadata": {
    "slideshow": {
     "slide_type": "slide"
    }
   },
   "source": [
    "### a)\n",
    "A continuación, se representara a la distribución de algunos de los datos cuantitativos del dataset, separados por pacientes normales (fuera de riesgo de infarto) y anormales (en riesgo de infarto):"
   ]
  },
  {
   "cell_type": "code",
   "execution_count": null,
   "metadata": {
    "slideshow": {
     "slide_type": "slide"
    }
   },
   "outputs": [],
   "source": [
    "#df.boxplot()\n",
    "df=df.sort_values(\"blood_p\")#IMPORTANTE PARA DESPUÉS\n",
    "dfn=df.loc[df['normal']==1]#pacientes normales\n",
    "dfa=df.loc[df['normal']==2]#pacientes anormales\n",
    "print(df.columns)"
   ]
  },
  {
   "cell_type": "code",
   "execution_count": null,
   "metadata": {
    "slideshow": {
     "slide_type": "slide"
    }
   },
   "outputs": [],
   "source": [
    "sns.distplot(dfn['age'],kde=True, color='blue', bins=100,label=\"normal\").set(xlabel=\"edad\",ylabel=\"frecuencia\",title=\"distribución de pacientes según edad\")\n",
    "sns.distplot(dfa['age'],kde=True, color='red', bins=100,label=\"anormal\")\n",
    "sns.despine()\n",
    "plt.legend()"
   ]
  },
  {
   "cell_type": "markdown",
   "metadata": {
    "slideshow": {
     "slide_type": "slide"
    }
   },
   "source": [
    "Pacientes en riesgo tienen a tener más edad que pacientes normales "
   ]
  },
  {
   "cell_type": "code",
   "execution_count": null,
   "metadata": {
    "slideshow": {
     "slide_type": "slide"
    }
   },
   "outputs": [],
   "source": [
    "sns.distplot(dfn['blood_p'],kde=True, color='blue', bins=50,label=\"normal\").set(xlabel=\"presión sanguinea\",ylabel=\"frecuencia\",title=\"presión sanguinea de pacientes según edad\")\n",
    "sns.distplot(dfa['blood_p'],kde=True, color='red', bins=50,label=\"anormal\")\n",
    "sns.despine()\n",
    "plt.legend()"
   ]
  },
  {
   "cell_type": "markdown",
   "metadata": {
    "slideshow": {
     "slide_type": "slide"
    }
   },
   "source": [
    "Pacientes normales tienden a registrar presiones más \"centradas\" a 130 que anormales."
   ]
  },
  {
   "cell_type": "code",
   "execution_count": null,
   "metadata": {
    "slideshow": {
     "slide_type": "slide"
    }
   },
   "outputs": [],
   "source": [
    "sns.countplot(x=\"sex\",data=dfn).set(xlabel=\"presión sanguinea\",ylabel=\"frecuencia\",title=\"presión de sexos de pacientes normales\")\n",
    "sns.despine()\n",
    "plt.legend()"
   ]
  },
  {
   "cell_type": "code",
   "execution_count": null,
   "metadata": {
    "slideshow": {
     "slide_type": "slide"
    }
   },
   "outputs": [],
   "source": [
    "sns.countplot(x=\"sex\",data=dfa).set(xlabel=\"presión sanguinea\",ylabel=\"frecuencia\",title=\"presión de sexos de pacientes anormales\")\n",
    "sns.despine()\n",
    "plt.legend()"
   ]
  },
  {
   "cell_type": "markdown",
   "metadata": {
    "slideshow": {
     "slide_type": "slide"
    }
   },
   "source": [
    "Pacientes hombres parecen tener mayor probabilidad de estar en riesgo que pacientes mujeres."
   ]
  },
  {
   "cell_type": "markdown",
   "metadata": {
    "slideshow": {
     "slide_type": "slide"
    }
   },
   "source": [
    "### b)\n",
    "Al momento de trabajar con un modelo de aprendizaje, es necesario conocer a las variables con las que se adaptará el modelo. En este caso usaremos un modelo de regresión lineal, el cual solo puede trabajar con variables cuantitativas, es decir, números. Sin embargo, este dataset contiene variables cualitativas que podrían ser significativas al momento de hacer las predicciones, por lo que será necesario representarlas numéricamente. Por ejemplo, nada nos dice que el sexo del paciente no será importante en el diagnóstico final.\n",
    "\n",
    "Lo primero que a uno se le viene a la mente es asignarle a cada una de las posibles variables cuantitativas un número, en cada categoría cuantitativa. Por ejemplo, si es hombre el valor de sexo será 0 y si es mujer, 1. El problema de hacer esto es que estamos asignando un peso cuantitativo a las variables, las cuales a pesar de originalmente no tienen ninguna relación de \"mayor o menor\" entre sí, en este caso pasarían a compararse numéricamente según un estándar definido por el que asigna las variables. \n",
    "\n",
    "Por ejemplo, consideremos que existe la variable \"nacionalidad\" (en este caso no existe, es solo hipotéticamente), cuyos posibles valores son \"Chile\", \"EEUU\" y \"Brazil\". Si asignamos a Chile el número 1, a Brazil el número 2 y a EEUU el número 3 (asumiendo que solo hay pacientes de esas nacionalidades), según el modelo, un chileno y un brazilero serán más similares que un chileno y un estadounidense, puesto que el valor 1 está más cercano al 2 que al 3. El problema es que los valores fueron asignados por nosotros y en realidad, no hay ninguna relación de \"semejanza\" dictada por aquellos valores.\n",
    "\n",
    "Una solución a este problema es el método \"One Hot Vectors\". Básicamente es descomponer cada característica cuantitativa en cada una de sus variables, cuyos valores serán igual a 0 en caso de que se cumpla la semejanza valor-característica y 0 en caso contrario.\n",
    "\n",
    "Por ejemplo, en lugar de que cada paciente tenga un valor \"sexo\", tendrá dos valores: \"sexo_masculino\" y \"sexo_femenino\". En caso de que el paciente sea hombre, sexo_masculino será igual a 1 y sexo_femenino será igual a 0. Si el paciente es mujer, sexo_masculino será igual a 0 y sexo_femenino igual a 1. En nuestro caso de ejemplo, en lugar de que el paciente tenga una nacionalidad, poseerá tres valores: \"nacionalidad_chile\", \"nacionalidad_brazil\" y \"nacionalidad_EEUU\", uno de los cuales será igual a 1 y el resto será igual a 0 dependiendo de la nacionalidad. De esta manera, cada valor posible de la variable pesa lo mismo: ninguno más que otro.\n",
    "\n",
    "En este caso, el método 'get_dummies' de la librería pandas nos permite hacer eso:\n"
   ]
  },
  {
   "cell_type": "code",
   "execution_count": null,
   "metadata": {
    "slideshow": {
     "slide_type": "slide"
    }
   },
   "outputs": [],
   "source": [
    "categorical=df[[\"sex\",\"vessel\",\"electro\",\"angina\",\"slope\",\"thal\",\"blood_s\",\"chest_pain\"]]\n",
    "df=pd.concat([df,pd.get_dummies(categorical)],axis=1)\n",
    "#df=df.drop(columns=[\"sex\",\"blood_p\",\"vessel\",\"electro\",\"angina\",\"slope\",\"thal\",\"blood_s\",\"chest_pain\"])\n",
    "df.columns"
   ]
  },
  {
   "cell_type": "markdown",
   "metadata": {
    "slideshow": {
     "slide_type": "slide"
    }
   },
   "source": [
    "### c)\n",
    "Lo siguiente es preparar la regresión lineal. La variable de clase a predecir será \"normal\" (0 significa que no hay riesgo de paro, 1 significa que sí) y la variable de regresión será la presión sanguínea. Llamaremos a la matriz pacientes(ejemplos)/variables \"X_data\":"
   ]
  },
  {
   "cell_type": "code",
   "execution_count": null,
   "metadata": {
    "slideshow": {
     "slide_type": "slide"
    }
   },
   "outputs": [],
   "source": [
    "class_label = df[\"normal\"].values -1 # 0 means absence, 1 means presence\n",
    "reg_label = df[\"blood_p\"].values\n",
    "\n",
    "#borramos los datos categóricos. Recordemos que ya los pasamos a otras columnas cuantitativas con get_dummies:\n",
    "#,\"blood_p\",\"normal\"\n",
    "X_data = df.drop(columns=[\"sex\",\"vessel\",\"electro\",\"angina\",\"slope\",\"thal\",\"blood_s\",\"chest_pain\",\"blood_p\",\"normal\"]).values"
   ]
  },
  {
   "cell_type": "markdown",
   "metadata": {
    "slideshow": {
     "slide_type": "slide"
    }
   },
   "source": [
    "### d)\n",
    "A, continuación, generamos una partición de X_data entre datos de entrenamiento \"X_train\"(70%) y datos de prueba \"X_test\"(30%):"
   ]
  },
  {
   "cell_type": "code",
   "execution_count": null,
   "metadata": {
    "slideshow": {
     "slide_type": "slide"
    }
   },
   "outputs": [],
   "source": [
    "'''\n",
    "d) Cree un conjunto de pruebas para evaluar los modelos construidos en el problema. Extraiga el 30% de los datos del \n",
    "conjunto total para representar el conjunto de pruebas.\n",
    "\n",
    "'''\n",
    "#separación de train y test:\n",
    "np.random.seed(0)\n",
    "mask_test = np.random.rand(X_data.shape[0]) < 0.30\n",
    "\n",
    "X_train = X_data[~mask_test] \n",
    "X_test = X_data[mask_test] \n",
    "\n",
    "#valores esperados de entrenamiento y de prueba\n",
    "reg_label_train = reg_label[~mask_test] \n",
    "reg_label_test = reg_label[mask_test]\n",
    "class_label_train = class_label[~mask_test]\n",
    "class_label_test = class_label[mask_test]\n",
    "print(\"Train: \",X_train.shape)\n",
    "print(\"Test: \",X_test.shape)"
   ]
  },
  {
   "cell_type": "markdown",
   "metadata": {
    "slideshow": {
     "slide_type": "slide"
    }
   },
   "source": [
    "### e)\n",
    "Previo a la regresión, estandarizaremos las variables. Esto permitirá analizar en un futuro cuales variables tienen un mayor impacto en la regresión, sin importar en que \"escala\" se presenten:"
   ]
  },
  {
   "cell_type": "code",
   "execution_count": null,
   "metadata": {
    "slideshow": {
     "slide_type": "slide"
    }
   },
   "outputs": [],
   "source": [
    "std = StandardScaler()\n",
    "std.fit(X_train)\n",
    "Xstd_train = std.transform(X_train) \n",
    "Xstd_test = std.transform(X_test)\n",
    "print(Xstd_train)"
   ]
  },
  {
   "cell_type": "markdown",
   "metadata": {
    "slideshow": {
     "slide_type": "slide"
    }
   },
   "source": [
    "### f)\n",
    "A continuación, se realiza la regresión lineal; para eso, usaremos a la clase LinearRegression de la librería sklearn. Primero se realiza el entrenamiento con el 70% de los datos originales, y luego, la prueba con los 30% datos restantes.\n",
    "\n",
    "(Nota: en esta implementación de regresión lineal, se evalúa el conjunto de entrenamiento después, y no durante, el entrenamiento)"
   ]
  },
  {
   "cell_type": "code",
   "execution_count": null,
   "metadata": {
    "slideshow": {
     "slide_type": "slide"
    }
   },
   "outputs": [],
   "source": [
    "model = LinearRegression(fit_intercept=True)\n",
    "\n",
    "#entrenamiento:\n",
    "model.fit(Xstd_train, reg_label_train)\n",
    "reg_pred_train = model.predict(Xstd_train)\n",
    "#prueba:\n",
    "reg_pred_test = model.predict(Xstd_test)"
   ]
  },
  {
   "cell_type": "markdown",
   "metadata": {
    "slideshow": {
     "slide_type": "slide"
    }
   },
   "source": [
    "Luego, medimos las pérdidas obtenidas en cada ejemplo, definiendo a la pérdida de cada instancia como: $(\\hat{Y}_{i}-Y_{i})^{2}$."
   ]
  },
  {
   "cell_type": "code",
   "execution_count": null,
   "metadata": {
    "slideshow": {
     "slide_type": "slide"
    }
   },
   "outputs": [],
   "source": [
    "Etrain=[]\n",
    "Etest=[]\n",
    "Ltrain=[]\n",
    "Ltest=[]\n",
    "\n",
    "#errores de entrenamiento\n",
    "for i in range(len(reg_pred_train)):\n",
    "    error=(reg_label_train[i]-reg_pred_train[i])\n",
    "    loss=error**2\n",
    "    Etrain.append(error)\n",
    "    Ltrain.append(loss)\n",
    "\n",
    "#errores de predicción\n",
    "for i in range(len(reg_pred_test)):\n",
    "    error=(reg_label_test[i]-reg_pred_test[i])\n",
    "    loss=error**2\n",
    "    Etest.append(error)\n",
    "    Ltest.append(loss)\n"
   ]
  },
  {
   "cell_type": "markdown",
   "metadata": {
    "slideshow": {
     "slide_type": "slide"
    }
   },
   "source": [
    "Graficando el error y la pérdida obtenida sobre el conjunto de entrenamiento por iteración:"
   ]
  },
  {
   "cell_type": "code",
   "execution_count": null,
   "metadata": {
    "slideshow": {
     "slide_type": "slide"
    }
   },
   "outputs": [],
   "source": [
    "xtrain=list(range(1,len(Etrain)+1))\n",
    "\n",
    "\n",
    "plt.figure(figsize=(8,4))\n",
    "plt.title(\"error de entrenamiento\")\n",
    "plt.xlabel(\"iteraciones\")\n",
    "plt.ylabel(\"error\")\n",
    "plt.plot(xtrain,Etrain,'g-',label='error de entrenamiento (R)',linewidth=3,alpha=0.5)\n",
    "\n",
    "plt.figure(figsize=(8,4))\n",
    "plt.title(\"pérdida de entrenamiento\")\n",
    "plt.xlabel(\"iteraciones\")\n",
    "plt.ylabel(\"pérdida\")\n",
    "plt.plot(xtrain,Ltrain,'r-',label='pérdida de entrenamiento (R)',linewidth=3,alpha=0.5)"
   ]
  },
  {
   "cell_type": "markdown",
   "metadata": {
    "slideshow": {
     "slide_type": "slide"
    }
   },
   "source": [
    "Graficando el error y la pérdida obtenida sobre el conjunto de prueba por iteración:"
   ]
  },
  {
   "cell_type": "code",
   "execution_count": null,
   "metadata": {
    "slideshow": {
     "slide_type": "slide"
    }
   },
   "outputs": [],
   "source": [
    "xtest=list(range(1,len(Etest)+1))\n",
    "\n",
    "plt.figure(figsize=(8,4))\n",
    "plt.title(\"error de prueba\")\n",
    "plt.xlabel(\"iteraciones\")\n",
    "plt.ylabel(\"error\")\n",
    "plt.plot(xtest,Etest,'g-',label='error de prueba (R)',linewidth=3,alpha=0.5)\n",
    "\n",
    "plt.figure(figsize=(8,4))\n",
    "plt.title(\"pérdida de prueba\")\n",
    "plt.xlabel(\"iteraciones\")\n",
    "plt.ylabel(\"pérdida\")\n",
    "plt.plot(xtrain,Ltrain,'r-',label='pérdida de prueba (R)',linewidth=3,alpha=0.5)"
   ]
  },
  {
   "cell_type": "markdown",
   "metadata": {
    "slideshow": {
     "slide_type": "slide"
    }
   },
   "source": [
    "Por último, haremos un análisis de los residuos, en relación a la hipótesis de normalidad, la cual propone que los residuos se comportan como una distribución aleatoria normal. Para eso, ordenaremos los residuos y crearemos qq plots comparándolos cin distribuciones normales."
   ]
  },
  {
   "cell_type": "code",
   "execution_count": null,
   "metadata": {
    "slideshow": {
     "slide_type": "slide"
    }
   },
   "outputs": [],
   "source": [
    "residuos_train=reg_label_train-reg_pred_train\n",
    "residuos_test=reg_label_test-reg_pred_test\n",
    "\n",
    "\n",
    "sm.qqplot(residuos_train)\n",
    "plt.plot(np.linspace(-3,3),np.linspace(-40,40))\n",
    "plt.title(\"qq plot de residuos comparados con distribución normal en entrenamiento:\")\n",
    "plt.figure()\n",
    "\n",
    "\n",
    "sm.qqplot(residuos_test)\n",
    "plt.plot(np.linspace(-3,3),np.linspace(-40,40))\n",
    "plt.title(\"qq plot de residuos comparados con distribución normal en prueba:\")\n",
    "plt.figure()"
   ]
  },
  {
   "cell_type": "markdown",
   "metadata": {},
   "source": [
    "Como se puede ver, los residuos parecen seguir parcialmente a lo que sería una distribución normal, aunque en los extremos suele desviarse. Por otro lado, los residuos generados en el conjunto de entrenamiento tienden más a la normal (el qq plot se ajusta más a la linea) que en el conjunto de prueba."
   ]
  },
  {
   "cell_type": "markdown",
   "metadata": {
    "slideshow": {
     "slide_type": "slide"
    }
   },
   "source": [
    "Revisando los gráficos de error y pérdida obtenidos, y los qq plots, se puede llegar a que las predicciones están lejos ser similares a lo que se espera, puesto que, por ejemplo, los errores de prueba y entrenamiento alcanzan cifras cercanas a 40 (en magnitud) y dichos gráficos presentan muchísimo ruido. Además, los qq plots se alejan mucho de la línea recta de referencia (x=y). En los qq plots, los resultados del conjunto de entrenamiento tuvieron una semejanza mucho mayor a los resultados reales que en el conjunto de prueba. En otras palabras, se presenta overfitting."
   ]
  },
  {
   "cell_type": "markdown",
   "metadata": {
    "slideshow": {
     "slide_type": "slide"
    }
   },
   "source": [
    "### g)\n",
    "Mediremos los pesos obtenidos del modelo de cada variable, los z-scores y los f-scores.\n",
    "\n",
    "El z_score de la variable $X_{i}$, con relación a la variable de regresión $Y$ y  se calcula de la siguiente forma:\n",
    "$$\n",
    "Z_{i}=\\frac{\\sum_{l}(x_{i}^{l}-\\overline{x_{i}})(y_{i}^{l}-\\overline{y})\\sqrt{\\sum_{l}(x_{i}^{l}-\\overline{x_{i}})^{2}}}{\\sum_{l}(x_{i}^{l}-\\overline{x_{i}})^{2}\\sigma^{2}}\n",
    "$$\n",
    "\n",
    "Dónde $\\sigma$ es la desviación estándar de de los residuos.\n",
    "\n",
    "Por otro lado, el f_score de la variable $X_{i}$ se calcula como:\n",
    "\n",
    "$$\n",
    "F_{i}=\\frac{(n-2)\\rho(i)^{2}}{1-\\rho(i)^{2}}\n",
    "$$\n",
    "\n",
    "En este caso, para $\\rho(i)$ será igual a:\n",
    "\n",
    "$$\n",
    "\\rho(i)=\\frac{\\sum_{l}(x_{i}^{l}-\\overline{x_{i}})(y_{i}^{l}-\\overline{y})}{\\sqrt{var(x_{i})*var(y)}}\n",
    "$$\n",
    "\n",
    "Similarmente a los pesos de las variables obtenidos de la regresión lineal, el z-score y el f-score buscan determinar el impacto de las variables en la variable de regresión, en este caso, la presión sanguínea.\n",
    "\n",
    "Nota: el f-score y el z-score serán obtenidos a partir de la muestra no estandarizada de todos los datos.\n"
   ]
  },
  {
   "cell_type": "code",
   "execution_count": null,
   "metadata": {
    "slideshow": {
     "slide_type": "slide"
    }
   },
   "outputs": [],
   "source": [
    "Ws=pd.DataFrame()\n",
    "vrs={}\n",
    "i=0\n",
    "for col in (df.drop(columns=[\"sex\",\"vessel\",\"electro\",\"angina\",\"slope\",\"thal\",\"blood_s\",\"chest_pain\",\"blood_p\",\"normal\"]).columns):\n",
    "    vrs[col]=model.coef_[i]\n",
    "    i+=1\n",
    "Ws[\"variables\"]=vrs.keys()\n",
    "Ws[\"pesos\"]=vrs.values()"
   ]
  },
  {
   "cell_type": "code",
   "execution_count": null,
   "metadata": {
    "slideshow": {
     "slide_type": "slide"
    }
   },
   "outputs": [],
   "source": [
    "sigma=np.std(np.concatenate((reg_label_train,reg_label_test))-np.concatenate((reg_pred_train,reg_pred_test)))\n",
    "\n",
    "def z_score(X_i,Y):\n",
    "    C=np.cov(X_i,Y)\n",
    "    a=C[0][1]/C[0][0]\n",
    "    s=sigma/np.sqrt(C[0][0])\n",
    "    return a/s\n",
    "\n",
    "def f_score(X_i,Y):\n",
    "    n=len(X_i)\n",
    "    C=np.cov(X_i,Y)\n",
    "    #rho=C[0][1]/(np.sqrt(C[0][0])*np.sqrt(C[1][1]))\n",
    "    rho=C[0][1]/np.sqrt(np.var(X_i)*np.var(Y))\n",
    "    return(n-2)*(rho**2)/(1-rho**2)"
   ]
  },
  {
   "cell_type": "code",
   "execution_count": null,
   "metadata": {
    "slideshow": {
     "slide_type": "slide"
    }
   },
   "outputs": [],
   "source": [
    "zscrs={}\n",
    "fscrs={}\n",
    "\n",
    "cols=list(vrs.keys())\n",
    "for i in range(X_data.shape[1]):#iterar sobre cada parámetro\n",
    "    zscrs[cols[i]]=z_score(X_data[:,i],reg_label)\n",
    "    fscrs[cols[i]]=f_score(X_data[:,i],reg_label)\n",
    "    \n",
    "\n",
    "Z=pd.DataFrame()\n",
    "F=pd.DataFrame()\n",
    "Z[\"variables\"]=zscrs.keys()\n",
    "Z[\"z_scores\"]=zscrs.values()\n",
    "F[\"variables\"]=fscrs.keys()\n",
    "F[\"f_values\"]=fscrs.values()"
   ]
  },
  {
   "cell_type": "code",
   "execution_count": null,
   "metadata": {
    "slideshow": {
     "slide_type": "slide"
    }
   },
   "outputs": [],
   "source": [
    "# pesos de variables, ordenados por magnitud\n",
    "Ws.iloc[Ws['pesos'].abs().argsort()].iloc[::-1]"
   ]
  },
  {
   "cell_type": "code",
   "execution_count": null,
   "metadata": {
    "slideshow": {
     "slide_type": "slide"
    }
   },
   "outputs": [],
   "source": [
    "# z_scores de variables, ordenados por magnitud\n",
    "Z.iloc[Z['z_scores'].abs().argsort()].iloc[::-1]"
   ]
  },
  {
   "cell_type": "code",
   "execution_count": null,
   "metadata": {
    "slideshow": {
     "slide_type": "slide"
    }
   },
   "outputs": [],
   "source": [
    "# f_scores de variables, ordenados por magnitud\n",
    "F.iloc[F['f_values'].abs().argsort()].iloc[::-1]"
   ]
  },
  {
   "cell_type": "markdown",
   "metadata": {},
   "source": [
    "El ranking obtenido de evaluar el z_score y f_values es equivalente, puesto que ambos puntajes son proporcionales al valor $\\rho(i)$. Por otro lado, el ranking de los pesos es algo distinto a los otros rankings, aunque comparten primer y segundo lugar: age y oldpeak  respectívamente. "
   ]
  },
  {
   "cell_type": "markdown",
   "metadata": {
    "slideshow": {
     "slide_type": "slide"
    }
   },
   "source": [
    "### h)\n",
    "También se pueden analizar los errores obtenidos de la regresión lineal tanto en el entrenamiento como en las pruebas, medidos como: $((\\hat{Y}-Y)^{2})$"
   ]
  },
  {
   "cell_type": "code",
   "execution_count": null,
   "metadata": {
    "slideshow": {
     "slide_type": "slide"
    }
   },
   "outputs": [],
   "source": [
    "print(\"MSE train: \", mean_squared_error(reg_label_train, reg_pred_train))\n",
    "print(\"MSE test: \", mean_squared_error(reg_label_test, reg_pred_test))"
   ]
  },
  {
   "cell_type": "markdown",
   "metadata": {
    "slideshow": {
     "slide_type": "slide"
    }
   },
   "source": [
    "Considerando que estamos hablando de un modelo que, en el entorno de la medicina, trata de predecir la presión sanguínea de un paciente para así diagnosticar un posible de riesgo de ataque cardiaco, no podemos considerar como aceptable un error demasiado grande en un modelo que, en caso de ser usado en la vida real, puede llegar a decidir si una persona vive o muere.\n",
    "\n",
    "Hay que tener en mente que los errores en este caso fueron calculados usando la diferencia al cuadrado y por ende, debemos analizar sus raíces: aproximadamente 15 y 19. Si estos fueran los rangos de error (en magnitud) quizás podríamos considerar al modelo como aceptable, pero estos son los errores en promedio. Recordando los gráficos hechos en el inciso f), los errores suelen superar mucho estos valores en magnitud.\n",
    "\n",
    "Por lo tanto, en este caso se consideran a los errores como demasiado significativos para ser aceptables.\n"
   ]
  },
  {
   "cell_type": "markdown",
   "metadata": {
    "slideshow": {
     "slide_type": "slide"
    }
   },
   "source": [
    "### i ) \n",
    "Como alternativa, podemos usar la cross validation o validación cruzada. Esta consiste en dividir al conjunto de ejemplos en k grupos, cada uno con la misma cantidad de ejemplos. Luego, en cada una de las k iteraciones, se elige a uno de los conjuntos y se separa del resto. Los otros (k-1) conjuntos serán el conjunto de entrenamiento en donde un modelo de regresión se entrenará (en cada iteración un modelo se entrenará desde cero). El conjunto aislado elegido en cada iteración será el conjunto de prueba."
   ]
  },
  {
   "cell_type": "code",
   "execution_count": null,
   "metadata": {
    "slideshow": {
     "slide_type": "slide"
    }
   },
   "outputs": [],
   "source": [
    "def cross_val(K):\n",
    "    if K==1:\n",
    "        kf=LeaveOneOut()\n",
    "    else:\n",
    "        kf = KFold(n_splits=K)\n",
    "    mse_cv = 0\n",
    "    i=0\n",
    "    for train, val in kf.split(X_data):\n",
    "        i+=1\n",
    "        linreg = LinearRegression(fit_intercept=True)\n",
    "        Xstd_train = std.transform(X_data[train]) \n",
    "        Xstd_test = std.transform(X_data[val])\n",
    "        \n",
    "        \n",
    "        linreg.fit(Xstd_train, reg_label[train])\n",
    "        yhat_kfold_val = linreg.predict(Xstd_test)\n",
    "        mse_fold =  np.mean( np.square(yhat_kfold_val - reg_label[val]) )\n",
    "        #print(Xstd_train)\n",
    "        mse_cv += mse_fold\n",
    "    mse_cv = mse_cv / K\n",
    "    #print(i)\n",
    "    return mse_cv\n",
    "\n",
    "print('el error cuadrático medio obtenido de la cross validation cuando k=1 (leave one out) es: ',cross_val(1))\n",
    "print('el error cuadrático medio obtenido de la cross validation cuando k=5 es: ',cross_val(5))"
   ]
  },
  {
   "cell_type": "markdown",
   "metadata": {
    "slideshow": {
     "slide_type": "slide"
    }
   },
   "source": [
    "### j)\n",
    "Una alternativa a la regresión lineal es la regresión ridge. En resumen, se trata de minimizar una pérdida $J_{\\alpha}$, la cual está sujeta a una variable $\\alpha>0$. Del resultado de la minimización se obtiene:\n",
    "$$\n",
    "        minJ_{\\lambda}(w)=\\sum_{l}(y^{l}-f(x^{l};w))**2+\\alpha ||w||^{2}\n",
    "$$\n",
    "\n",
    "Por lo tanto, en cada iteración, la variable peso se actualiza:\n",
    "$$\n",
    "    w=w-(\\triangledown J(w) + \\alpha w)\n",
    "$$\n",
    "\n",
    "La clase Ridge de a librería sklearn nos permite automatizar todo este proceso.\n",
    "\n",
    "En este caso, usaremos distintos valores de $\\alpha$, desde 1 a $10^{5}$, y veremos los pesos finales obtenidos para cada variable. Como conjunto de entrenamiento, usaremos el mismo que usamos para la primera regresión lineal."
   ]
  },
  {
   "cell_type": "code",
   "execution_count": null,
   "metadata": {
    "slideshow": {
     "slide_type": "slide"
    }
   },
   "outputs": [],
   "source": [
    "alphas_ = np.logspace(5,0, base=10)\n",
    "coefs = []\n",
    "model = Ridge(fit_intercept=True, solver='svd')\n",
    "\n",
    "#regresion ridge minimiza j sujeta a un parámetro alpha\n",
    "\n",
    "for a in alphas_:#distintos parámetros para ajustar la ridge regression\n",
    "    model.set_params(alpha=a)\n",
    "    model.fit(Xstd_train, reg_label_train)\n",
    "    coefs.append(model.coef_)\n"
   ]
  },
  {
   "cell_type": "markdown",
   "metadata": {
    "slideshow": {
     "slide_type": "slide"
    }
   },
   "source": [
    "En el siguiente gráfico, se presentan los pesos obtenidos para cada variable, según el parámetro alpha:"
   ]
  },
  {
   "cell_type": "code",
   "execution_count": null,
   "metadata": {
    "slideshow": {
     "slide_type": "slide"
    }
   },
   "outputs": [],
   "source": [
    "names_regressors = df.drop(columns=[\"sex\",\"vessel\",\"electro\",\"angina\",\"slope\",\"thal\",\"blood_s\",\"chest_pain\",\"blood_p\",\"normal\"]).columns\n",
    "plt.figure(figsize=(15,7))\n",
    "for y_arr, label in zip(np.squeeze(coefs).T, names_regressors):\n",
    "    plt.plot(alphas_, y_arr, label=label)\n",
    "plt.legend()\n",
    "plt.xscale('log')\n",
    "plt.xlabel(\"alphas\")\n",
    "plt.ylabel(\"pesos\")\n",
    "plt.title('Regularization Path RIDGE')\n",
    "plt.legend(loc='lower right')\n",
    "plt.show()\n"
   ]
  },
  {
   "cell_type": "markdown",
   "metadata": {
    "slideshow": {
     "slide_type": "slide"
    }
   },
   "source": [
    "Como se puede observar, el parámetro $\\alpha$ \"ajusta\" a las variables. Entre mayor sea, más equitativos serán los pesos finales. \n",
    "\n",
    "Se podría decir que es difícil definir un valor de $\\alpha$ óptimo para este caso. Si elegimos un $\\alpha$ muy pequeño, la diferencia entre los pesos puede ser demasiada grande causando un posible overfitting en la fase de prueba. Si elegimos un $\\alpha$ demasiado grande, los pesos de cada variable se vuelven indiferenciables. Además, hay pesos que cambian de \"ranking\" cuando varía el valor de $\\alpha$. Por ejemplo, slope_fat se vuelve menos importante que slope_downslopping entre los valores 10 y 100 de $\\alpha$."
   ]
  },
  {
   "cell_type": "markdown",
   "metadata": {
    "slideshow": {
     "slide_type": "slide"
    }
   },
   "source": [
    "### k)\n",
    "\n",
    "Otra alternativa es el método \"lasso\", que modifica la función minimizada en ridge, usando norma 1 en lugar de norma 2:\n",
    "\n",
    "$$\n",
    " minJ_{\\lambda}(w)=\\sum_{l}(y^{l}-f(x^{l};w))**2+\\alpha ||w||\n",
    "$$\n",
    "\n",
    "La clase Lasso de la librería sklearn nos da acceso a este tipo de regresión. Haremos el mismo proceso que en el inciso j)."
   ]
  },
  {
   "cell_type": "code",
   "execution_count": null,
   "metadata": {
    "slideshow": {
     "slide_type": "slide"
    }
   },
   "outputs": [],
   "source": [
    "alphas_ = np.logspace(2,-2,base=10)\n",
    "coefs = []\n",
    "model = Lasso(fit_intercept=True)\n",
    "for a in alphas_:\n",
    "    model.set_params(alpha=a)\n",
    "    model.fit(Xstd_train, reg_label_train)\n",
    "    coefs.append(model.coef_)\n"
   ]
  },
  {
   "cell_type": "markdown",
   "metadata": {
    "slideshow": {
     "slide_type": "slide"
    }
   },
   "source": [
    "Graficando peso obtenido por valor de $\\alpha$ por cada variable:"
   ]
  },
  {
   "cell_type": "code",
   "execution_count": null,
   "metadata": {
    "slideshow": {
     "slide_type": "slide"
    }
   },
   "outputs": [],
   "source": [
    "names_regressors = df.drop(columns=[\"sex\",\"vessel\",\"electro\",\"angina\",\"slope\",\"thal\",\"blood_s\",\"chest_pain\",\"blood_p\",\"normal\"]).columns\n",
    "plt.figure(figsize=(15,7))\n",
    "for y_arr, label in zip(np.squeeze(coefs).T, names_regressors):\n",
    "    plt.plot(alphas_, y_arr, label=label)\n",
    "plt.legend()\n",
    "plt.xscale('log')\n",
    "plt.xlabel(\"alphas\")\n",
    "plt.ylabel(\"pesos\")\n",
    "plt.title('Regularization Path RIDGE')\n",
    "plt.legend(loc='lower right')\n",
    "plt.show()"
   ]
  },
  {
   "cell_type": "markdown",
   "metadata": {
    "slideshow": {
     "slide_type": "slide"
    }
   },
   "source": [
    "Se observa un efecto similar al del ejemplo anterior, con la diferencia que las variables \"caen\" mucho más rápido. En el ejemplo anterior el $\\alpha$ tenía que acercarse a los $10^{5}$ para que las variables converjan a 0. Acá, ya en $\\alpha=10$ todas las variables se igualan a 0."
   ]
  },
  {
   "cell_type": "markdown",
   "metadata": {
    "slideshow": {
     "slide_type": "slide"
    }
   },
   "source": [
    "### l)\n",
    "Con el siguiente widget, podemos comparar cómo se comportan las regresiones Lasso y Ridge frente a distintos valores del parámetro $\\alpha$, en cuanto a error (cuadrático).  Usaremos el mismo conjunto de entrenamiento y prueba de los primeros incisos."
   ]
  },
  {
   "cell_type": "code",
   "execution_count": null,
   "metadata": {
    "slideshow": {
     "slide_type": "slide"
    }
   },
   "outputs": [],
   "source": [
    "def train_model(param):\n",
    "    A= 10**(param)\n",
    "    modelR = Ridge(fit_intercept=True, solver='svd')\n",
    "    modelL = Lasso(fit_intercept=True)\n",
    "\n",
    "    print(\"Parámetro alpha: \",A)\n",
    "    \n",
    "    modelR.set_params(alpha=A)\n",
    "    modelR.fit(Xstd_train, reg_label_train)\n",
    "    print(\"error cuadrático promedio de entrenamiento en ridge: \", mean_squared_error(reg_label_train, modelR.predict(Xstd_train) ))\n",
    "    print(\"error cuadrádico promedio de prueba en ridge: \", mean_squared_error(reg_label_test, modelR.predict(Xstd_test) ))\n",
    "    \n",
    "    modelL.set_params(alpha=A)\n",
    "    modelL.fit(Xstd_train, reg_label_train)\n",
    "    print(\"error cuadrático promedio de entrenamiento en lasso: \", mean_squared_error(reg_label_train, modelL.predict(Xstd_train) ))\n",
    "    print(\"error cuadrádico promedio de prueba en lasso: \", mean_squared_error(reg_label_test, modelL.predict(Xstd_test) ))\n",
    "    \n",
    "    \n",
    "    \n",
    "p_min = -10 #define your range\n",
    "p_max = 10 #define your range\n",
    "interactive(train_model, param=(p_min,p_max))"
   ]
  },
  {
   "cell_type": "markdown",
   "metadata": {
    "slideshow": {
     "slide_type": "slide"
    }
   },
   "source": [
    "Para valores de $\\alpha$ pequeños (menores a 1), observamos que el comportamiento de los errores, tanto de entrenamiento como en prueba de ambas regresiones es casi igual. Lo mismo sucede en valores de $\\alpha$ demasiado grandes (cercanos a $10^{10}$)\n",
    "En general, el error de entrenamiento en ridge es menor al de lasso cuando $\\alpha$ es mayor a 1. El error de prueba también suele ser menor en ridge, pero no significativamente.\n",
    "\n",
    "En conclusión, es mejor usar el modelo de lasso para valores de $\\alpha$ no muy grandes y no muy pequeños. En casos extremos, la decisión entre los dos no es muy significativa."
   ]
  },
  {
   "cell_type": "markdown",
   "metadata": {
    "slideshow": {
     "slide_type": "slide"
    }
   },
   "source": [
    "### m)\n",
    "\n",
    "Muchas veces, el número de variables disponibles en un modelo de regresión es demasiado grande y algunas de las variables podrían no tener suficiente relevancia en la predicción, lo cual podría causar overfitting. Es por eso que conviene seleccionar un subconjunto de las variables más importantes según algún criterio.\n",
    "\n",
    "En este caso, necesitamos un modelo con solo 5 características (variables) a partir del dataset original, para predecir la presión sanguínea. Para eso, utilizaremos el algoritmo fss, el evalúa distintos subconjuntos de variables (de largo menor o igual a 5). El criterio utilizado consiste en entrenar el modelo usando a las variables en cada subconjunto, evaluar y comparar resultados según el error absoluto promedio."
   ]
  },
  {
   "cell_type": "code",
   "execution_count": null,
   "metadata": {
    "slideshow": {
     "slide_type": "slide"
    }
   },
   "outputs": [],
   "source": [
    "def fss(x, y, names_x, k = 10000):\n",
    "    p = x.shape[1]-1\n",
    "    k = min(p, k)\n",
    "    names_x = np.array(names_x)\n",
    "    remaining = list(range(0, p))\n",
    "    selected = [p]\n",
    "    current_score = best_new_score = 0.0\n",
    "    while remaining and len(selected)<k :\n",
    "        score_candidates = []\n",
    "        for candidate in remaining:\n",
    "            model = LinearRegression(fit_intercept=True, n_jobs=1)\n",
    "            indexes = selected + [candidate]\n",
    "            x_t = x[:,indexes]\n",
    "            \n",
    "            predictions_train = model.fit(x_t, y).predict(x_t)\n",
    "            residuals_train =  predictions_train - y\n",
    "            #error_candidate =  np.mean(np.power(residuals_train, 2))\n",
    "            error_candidate =  np.mean(np.abs(residuals_train))\n",
    "            \n",
    "            score_candidates.append((error_candidate, candidate))\n",
    "        score_candidates.sort()\n",
    "        score_candidates[:] = score_candidates[::-1]\n",
    "        best_new_score, best_candidate = score_candidates.pop()\n",
    "        remaining.remove(best_candidate)\n",
    "        selected.append(best_candidate)\n",
    "        print(indexes)\n",
    "        print (\"variable seleccionada = \",names_x[best_candidate],\", mse = \",best_new_score)\n",
    "    print (\"variables seleccionadas\",names_x[selected])\n",
    "    return selected\n",
    "'''\n",
    "features_fss = fss()\n",
    "need_feat = features_fss[:5]\n",
    "'''\n",
    "\n",
    "def evaluate_fss(x_train,x_test,y_train,y_test,names,k):\n",
    "    selected_indexes=fss(x_train,y_train,names,k)\n",
    "    selected_x_test=x_test[:,selected_indexes]\n",
    "    predictions_test=model.fit(selected_x_test,y_test).predict(selected_x_test)\n",
    "    residuals_test =  predictions_test - y_test\n",
    "    itrs=list(range(1,len(residuals_test)+1))\n",
    "    plt.figure(figsize=(15,7))\n",
    "    plt.plot(itrs,  residuals_test)\n",
    "    plt.legend()\n",
    "    plt.xlabel(\"iteración\")\n",
    "    plt.ylabel(\"error\")\n",
    "    print(\"k=\",k)\n",
    "    plt.title(\"error de prueba usando k variables seleccionadas\")\n",
    "    plt.legend(loc='lower right')\n",
    "    plt.show()\n",
    "#print(fss(Xstd_train, reg_label_train,names_regressors,5),resi)\n",
    "\n",
    "evaluate_fss(Xstd_train,Xstd_test,reg_label_train,reg_label_test,list(vrs.keys()),5)\n",
    "#interact(evaluate_fss,x_train=Xstd_train,x_test=Xstd_test,y_train=reg_label_train,y_test=reg_label_test,names=list(vrs.keys),k=(1,23,1))"
   ]
  },
  {
   "cell_type": "markdown",
   "metadata": {
    "slideshow": {
     "slide_type": "slide"
    }
   },
   "source": [
    "### n)\n",
    "\n",
    "Otro criterio utilizable en el algoritmo fss, es el \"de maximum relavancy minimum redundancy\", el cual, dado un conjunto de variables seleccionadas al que llamaremos F (inicialmente vacío), se le agrega la variable $X_{i}$ no perteneciente a F que maximice:\n",
    "\n",
    "$$\n",
    "I(Y,X_{i})-\\beta\\sum_{j\\in F}{I(X_{j},X_{i})}\n",
    "$$\n",
    "\n",
    "Donde $\\beta\\geq0$ y la función $I$ evalúa que tan relacionadas están dos variables. En este caso, como implementación de $I$, utilizaremos a la covarianza."
   ]
  },
  {
   "cell_type": "code",
   "execution_count": null,
   "metadata": {
    "slideshow": {
     "slide_type": "slide"
    }
   },
   "outputs": [],
   "source": [
    "def modified_fss(x, y, names_x, k = 10000,beta=0.1):\n",
    "    p = x.shape[1]-1\n",
    "    index_y=p+1\n",
    "    k = min(p, k)\n",
    "    names_x = np.array(names_x)\n",
    "    remaining = list(range(0, p))\n",
    "    selected = []#F\n",
    "    current_score = best_new_score = 0.0\n",
    "    allvs=np.c_[x,y].T\n",
    "    C=np.cov(allvs)#matriz de covarianzas\n",
    "\n",
    "    while remaining and len(selected)<k :\n",
    "        score_candidates = []\n",
    "        for candidate in remaining:\n",
    "            relevance=C[candidate,index_y]#I(Y,X_i)\n",
    "            for sel in selected:\n",
    "                relevance-=beta*C[candidate][sel]#I(X_j,X_i)\n",
    "            score_candidates.append((relevance,candidate))\n",
    "        score_candidates.sort()\n",
    "        best_new_score, best_candidate = score_candidates.pop()\n",
    "\n",
    "        remaining.remove(best_candidate)\n",
    "        selected.append(best_candidate)\n",
    "        print (\"variable seleccionada = \",names_x[best_candidate],\", mse = \",best_new_score)\n",
    "    print(selected)\n",
    "    return selected\n",
    "'''\n",
    "features_fss = fss()\n",
    "need_feat = features_fss[:5]\n",
    "'''\n",
    "\n",
    "@interact(k=(1,23,1),beta=(0,10,0.5),x_train=fixed(Xstd_train),x_test=fixed(Xstd_test),y_train=fixed(reg_label_train),y_test=fixed(reg_label_test),names=fixed(list(vrs.keys())))\n",
    "def evaluate_modified_fss(k,beta,x_train,x_test,y_train,y_test,names):\n",
    "    selected_indexes=modified_fss(x_train,y_train,names,k,beta)\n",
    "    selected_x_test=x_test[:,selected_indexes]\n",
    "    predictions_test=model.fit(selected_x_test,y_test).predict(selected_x_test)#la única vez que se entrena el modelo!\n",
    "    residuals_test =  predictions_test - y_test\n",
    "    itrs=list(range(1,len(residuals_test)+1))\n",
    "    plt.figure(figsize=(15,7))\n",
    "    plt.plot(itrs,  residuals_test)\n",
    "    plt.legend()\n",
    "    plt.xlabel(\"iteración\")\n",
    "    plt.ylabel(\"error\")\n",
    "    plt.title(\"error de prueba usando k variables seleccionadas\")\n",
    "    plt.legend(loc='lower right')\n",
    "    plt.show()\n",
    "\n"
   ]
  },
  {
   "cell_type": "markdown",
   "metadata": {
    "slideshow": {
     "slide_type": "slide"
    }
   },
   "source": [
    "### o)\n",
    "Para evaluar la efectividad de la selección de atributos, agregaremos atributos artificiales aleatorios al dataset y reduciremos usando el fss modificado del inciso n, antes de evaluar."
   ]
  },
  {
   "cell_type": "code",
   "execution_count": null,
   "metadata": {
    "scrolled": true,
    "slideshow": {
     "slide_type": "slide"
    }
   },
   "outputs": [],
   "source": [
    "def add_atributes(X_data,d,scl):\n",
    "    X_fake=X_data\n",
    "    names_fake=list(vrs.keys())\n",
    "    vrs_fake=vrs\n",
    "    for i in range(d):\n",
    "        lc=np.random.randint(low=1,high=200)#promedio aleatorio\n",
    "        X_fake=np.c_[X_fake,np.random.normal(loc=lc,scale=scl,size=X_data.shape[0])]\n",
    "        names_fake.append(\"fake_\"+str(i))\n",
    "    return X_fake,names_fake\n",
    "\n",
    "@interact(k=(1,23,1),beta=(0,10,0.5),d=(10,100,5),scl=(0,50,1))\n",
    "def evaluate_with_artificial(k,beta,d,scl):\n",
    "\n",
    "    #evaluate_modified_fss(k,beta,X_train,X_test,reg_label_train,reg_label_test,list(vrs.keys()))\n",
    "    X_fake,names_fake=add_atributes(X_data,d,scl)\n",
    "    X_fake_train=X_fake[~mask_test]\n",
    "    X_fake_test=X_fake[mask_test]\n",
    "    \n",
    "    evaluate_modified_fss(k,beta,X_fake_train,X_fake_test,reg_label_train,reg_label_test,names_fake)\n",
    "                        "
   ]
  },
  {
   "cell_type": "markdown",
   "metadata": {
    "slideshow": {
     "slide_type": "slide"
    }
   },
   "source": [
    "Durante el proceso de selección de variables luego de la inclusión de variables artificiales, existe la probabilidad de que un número de variables artificiales sean seleccionadas como las k más importantes. Por lo tanto, a medida que se aumenta el número de variables artificiales, se aumenta la tendencia a que la selección se llene más y más de algunas de estas variables, generando resultados con mayor error. Por otro lado, cuando se aumenta la desviación estándar de los valores de las variables, el rango y la \"amplitud\" (lejanía de los valores al valor 0) del error también aumenta."
   ]
  },
  {
   "cell_type": "markdown",
   "metadata": {
    "slideshow": {
     "slide_type": "slide"
    }
   },
   "source": [
    "### p)\n",
    "Ahora, en lugar de predecir a la variable de regresión (presión sanguínea), intentaremos predecir a la variable de clase (0=normal o 1=anormal). Para eso, usaremos al modelo de regresión de lasso."
   ]
  },
  {
   "cell_type": "code",
   "execution_count": null,
   "metadata": {
    "slideshow": {
     "slide_type": "slide"
    }
   },
   "outputs": [],
   "source": [
    "mask_norm = class_label_train == 0 #sanos\n",
    "model = Lasso(fit_intercept=True)\n",
    "model.fit(Xstd_train[mask_norm], reg_label_train[mask_norm])#se entrena con los sanos  o los \"normales\"\n",
    "#model.fit(Xstd_train, reg_label_train)#se entrena con los sanos  o los \"normales\"\n",
    "\n",
    "blood_p_tr = model.predict(Xstd_train) \n",
    "blood_p_te = model.predict(Xstd_test) \n"
   ]
  },
  {
   "cell_type": "markdown",
   "metadata": {
    "slideshow": {
     "slide_type": "slide"
    }
   },
   "source": [
    "### q) y r)\n",
    "Una forma de pasar de predicción de regresión a clasificación es definiendo un umbral (considerando que la variable de regresión parece estar relacionada a la de clasificación). Es decir, definiremos dos números $u$ y $U$ ($u<U$). Si la variable de regresión está entre esos dos números, la variable de clasificación esperada será igual 0 (normal). En caso contrario la variable de clasificación esperada será igual a 1. El objetivo es definir correctamente el umbral tal que la clasificación sea suficientemente correcta (en este caso se nos pide)."
   ]
  },
  {
   "cell_type": "code",
   "execution_count": null,
   "metadata": {
    "slideshow": {
     "slide_type": "slide"
    }
   },
   "outputs": [],
   "source": [
    "sns.distplot(blood_p_tr[mask_norm], label=\"normal behavior\")\n",
    "sns.distplot(blood_p_tr[~mask_norm], label=\"ill person behavior\")\n",
    "plt.legend()\n",
    "plt.show()\n",
    "\n",
    "\n",
    "def predict_umbr(data, umbral_up, umbral_low):\n",
    "    preds = []\n",
    "    for value in data:\n",
    "        if value > umbral_up or value < umbral_low:\n",
    "            preds.append(1) #presencia\n",
    "        else:\n",
    "            preds.append(0)\n",
    "    return np.asarray(preds)\n",
    "\n",
    "def accu(U=130,u=110):#nota: valores default fueron agregados después de probar con muchos\n",
    "    if u>=U:\n",
    "        print(\"error de umbrales\")\n",
    "        return\n",
    "    pred_train = predict_umbr(blood_p_tr, U, u)\n",
    "    pred_test = predict_umbr(blood_p_te, U, u)\n",
    "    actr=accuracy_score(class_label_train, pred_train)\n",
    "    acte=accuracy_score(class_label_test, pred_test)\n",
    "    print(\"Score train: \",actr)\n",
    "    print(\"Score test: \",acte)\n",
    "    print(\"diferencia score entrenamiento-prueba:\",actr-acte)\n",
    "\n",
    "interact(accu,u=(0,150,2),U=(100,250,2))\n"
   ]
  },
  {
   "cell_type": "markdown",
   "metadata": {
    "slideshow": {
     "slide_type": "slide"
    }
   },
   "source": [
    "Analizando el histograma generado y experimentando con distintos valores de $u$ y $U$, se llega que cuando $U=130$ y $u<110$ (aprox) los scores train y test alcanzan un valor máximo: el puntaje de entrenamiento es cercano a 0.674 y el de prueba es aproximadamente 0.64. Entonces, la diferencia entre error máximo de entrenamiento y de prueba es de aproximadamente 0.034. Claramente la variación de $u$ y $U$ cambia significativamente la precisión del clasificador."
   ]
  },
  {
   "cell_type": "markdown",
   "metadata": {
    "slideshow": {
     "slide_type": "slide"
    }
   },
   "source": [
    "### s)\n",
    "Como alternativa, en lugar de intentar clasificar desde la variable de regresión, podemos ocupar al perceptrón: un modelo clasificador que, valga la redundancia, predice un atributo de clasificación en lugar de regresión. A continuación, mediremos la eficacia de este:"
   ]
  },
  {
   "cell_type": "code",
   "execution_count": null,
   "metadata": {
    "slideshow": {
     "slide_type": "slide"
    }
   },
   "outputs": [],
   "source": [
    "model = Perceptron(fit_intercept=True, eta0=1.0, max_iter=1000, n_jobs=-1)\n",
    "model.fit(Xstd_train, class_label_train)\n",
    "pred_train = model.predict(Xstd_train) \n",
    "pred_test = model.predict(Xstd_test)\n",
    "actrper=accuracy_score(class_label_train, pred_train)\n",
    "acteper=accuracy_score(class_label_test, pred_test)\n",
    "print(\"Score train: \",actrper)\n",
    "print(\"Score test: \",acteper)\n",
    "print(\"diferencia score entrenamiento-prueba:\",actrper-acteper)"
   ]
  },
  {
   "cell_type": "markdown",
   "metadata": {
    "slideshow": {
     "slide_type": "slide"
    }
   },
   "source": [
    "El nivel de exactitud de entrenamiento es cercano a 0.777 y el de prueba es cercano a 0.756. No solo son puntajes mayores, sino que la diferencia entre puntajes de prueba y entrenamiento son más similares, habiendo una diferencia menor, cercana a 0.021 (menos overfitting). En otras palabras, este método es más cercano, sin desmerecer al anterior cuando los valores de umbral son óptimos."
   ]
  },
  {
   "cell_type": "markdown",
   "metadata": {
    "slideshow": {
     "slide_type": "slide"
    }
   },
   "source": [
    "### t)\n",
    "A continuación, visualizaremos los datos. Para una mayor comprensión, representaremos a los datos usando una técnica llamada PCA, que básicamente realiza una transformación lineal a los datos"
   ]
  },
  {
   "cell_type": "code",
   "execution_count": null,
   "metadata": {
    "slideshow": {
     "slide_type": "slide"
    }
   },
   "outputs": [],
   "source": [
    "d = 2\n",
    "pca_model = PCA(n_components=d)\n",
    "pca_model.fit(Xstd_train)\n",
    "X_pca_train = pca_model.transform(Xstd_train)\n",
    "X_pca_test = pca_model.transform(Xstd_test)\n",
    "\n",
    "\n",
    "mask_norm_train = class_label_train == 0 \n",
    "X_pca_train_normal=X_pca_train[mask_norm_train]\n",
    "X_pca_train_anormal=X_pca_train[~mask_norm_train]\n",
    "\n",
    "mask_norm_test = class_label_test == 0 \n",
    "X_pca_test_normal=X_pca_test[mask_norm_test]\n",
    "X_pca_test_anormal=X_pca_test[~mask_norm_test]\n",
    "\n",
    "plt.figure(figsize=(20,10))\n",
    "fig, ax = plt.subplots()\n",
    "ax.scatter(X_pca_train_normal[:,0], X_pca_train_normal[:,1],color='navy',label=\"normales (entrenamiento)\")\n",
    "ax.scatter(X_pca_test_normal[:,0], X_pca_test_normal[:,1],color='blue',label=\"normales (prueba)\")\n",
    "ax.scatter(X_pca_train_anormal[:,0], X_pca_train_anormal[:,1],color='darkred',label=\"anormales (entrenamiento)\")\n",
    "ax.scatter(X_pca_test_anormal[:,0], X_pca_test_anormal[:,1],color='red',label=\"anormales (prueba)\")\n",
    "\n",
    "ax.legend()\n",
    "plt.show()"
   ]
  },
  {
   "cell_type": "markdown",
   "metadata": {
    "slideshow": {
     "slide_type": "slide"
    }
   },
   "source": [
    "Observando este scatterplot, donde los rojos son de una clase y los azules son de otra, nos percatamos que, a pesar de que hay una tendencia a que cada clase se mantenga a un lado de la figura (rojos a la derecha y azules a la izquierda), no se puede trazar una \"línea\" que separe a las dos clases, incluso cuando simplificamos los datos al nivel de separarlos en dos clases, puesto que hay rojos que se \"escapan\" a la zona de los azules y azules que se \"escapan\" donde los rojos (esto sucede tanto en datos de entrenamiento como en de prueba). Por lo tanto, una clasificación perfecta no existe."
   ]
  },
  {
   "cell_type": "markdown",
   "metadata": {
    "slideshow": {
     "slide_type": "slide"
    }
   },
   "source": [
    "### u)\n",
    "A continuación, repetiremos el mismo ejercicio hecho en el inciso t, pero esta vez en lugar de usar PCA para la reducción de dimensionalidad, usaremos otro método llamado ICA."
   ]
  },
  {
   "cell_type": "code",
   "execution_count": null,
   "metadata": {
    "slideshow": {
     "slide_type": "slide"
    }
   },
   "outputs": [],
   "source": [
    "d = 2\n",
    "ica_model = FastICA(n_components=d)\n",
    "\n",
    "ica_model.fit_transform(Xstd_train)\n",
    "X_ica_train =ica_model.transform(Xstd_train)\n",
    "X_ica_test = ica_model.transform(Xstd_test)\n",
    "print(ica_model.transform(Xstd_train).shape)\n",
    "\n",
    "mask_norm_train = class_label_train == 0 \n",
    "X_ica_train_normal=X_ica_train[mask_norm_train]\n",
    "X_ica_train_anormal=X_ica_train[~mask_norm_train]\n",
    "\n",
    "mask_norm_test = class_label_test == 0 \n",
    "X_ica_test_normal=X_ica_test[mask_norm_test]\n",
    "X_ica_test_anormal=X_ica_test[~mask_norm_test]\n",
    "\n",
    "plt.figure(figsize=(30,12))\n",
    "fig, ax = plt.subplots()\n",
    "ax.scatter(X_ica_train_normal[:,0], X_ica_train_normal[:,1],color='navy',label=\"normales (entrenamiento)\")\n",
    "ax.scatter(X_ica_test_normal[:,0], X_ica_test_normal[:,1],color='blue',label=\"normales (prueba)\")\n",
    "ax.scatter(X_ica_train_anormal[:,0], X_ica_train_anormal[:,1],color='darkred',label=\"anormales (entrenamiento)\")\n",
    "ax.scatter(X_ica_test_anormal[:,0], X_ica_test_anormal[:,1],color='red',label=\"anormales (prueba)\")\n",
    "\n",
    "ax.legend()\n",
    "plt.show()"
   ]
  },
  {
   "cell_type": "markdown",
   "metadata": {
    "slideshow": {
     "slide_type": "slide"
    }
   },
   "source": [
    "Si bien los valores dentro de las dimensiones resultantes son de \"magnitudes\" diferentes (están en rangos mucho menores), el efecto se repite. Hay una tendencia a que las clases se separen, pero no existe una separación total."
   ]
  },
  {
   "cell_type": "markdown",
   "metadata": {
    "slideshow": {
     "slide_type": "slide"
    }
   },
   "source": [
    "### v)\n",
    "A continuación, compararemos la precisión del perceptrón cuando la dimensión es igual a 23 (original) y cuando se reduce la dimensionalidad usando PCA:"
   ]
  },
  {
   "cell_type": "code",
   "execution_count": null,
   "metadata": {
    "slideshow": {
     "slide_type": "slide"
    }
   },
   "outputs": [],
   "source": [
    "@interact(d=(1,23,1))\n",
    "def evaluate_dimensionality(d):\n",
    "    \n",
    "    model = Perceptron(fit_intercept=True, eta0=1.0, max_iter=1000, n_jobs=-1)\n",
    "    model.fit(Xstd_train, class_label_train)\n",
    "    pred_train = model.predict(Xstd_train) \n",
    "    pred_test = model.predict(Xstd_test)\n",
    "    actrper=accuracy_score(class_label_train, pred_train)\n",
    "    acteper=accuracy_score(class_label_test, pred_test)\n",
    "    print(\"cuando la dimensión es igual a 23 (original)\")\n",
    "    print(\"Score train: \",actrper)\n",
    "    print(\"Score test: \",acteper)\n",
    "    print(\"diferencia score entrenamiento-prueba:\",actrper-acteper)\n",
    "    \n",
    "    pca_model = PCA(n_components=d)\n",
    "    pca_model.fit(Xstd_train)\n",
    "    X_pca_train_d = pca_model.transform(Xstd_train)\n",
    "    X_pca_test_d = pca_model.transform(Xstd_test)\n",
    "    \n",
    "    \n",
    "    model_d=Perceptron(fit_intercept=True, eta0=1.0, max_iter=1000, n_jobs=-1)\n",
    "    model_d.fit(X_pca_train_d,class_label_train)\n",
    "    pred_train_d=model_d.predict(X_pca_train_d)\n",
    "    pred_test_d=model_d.predict(X_pca_test_d)\n",
    "    actrperd=accuracy_score(class_label_train, pred_train_d)\n",
    "    acteperd=accuracy_score(class_label_test, pred_test_d)\n",
    "    print(\"\\ncuando la dimension es igual a \",d,\":\")\n",
    "    print(\"Score train: \",actrperd)\n",
    "    print(\"Score test: \",acteperd)\n",
    "    print(\"diferencia score entrenamiento-prueba:\",actrperd-acteperd)\n",
    "    \n",
    "    \n",
    "    \n",
    "    "
   ]
  },
  {
   "cell_type": "markdown",
   "metadata": {
    "slideshow": {
     "slide_type": "slide"
    }
   },
   "source": [
    "Al parecer, la reducción de dimensionalidad puede cambiar y hasta mejorar el nivel de predicción del modelo. Ya con d=2 los scores son mayores y la diferencia entre scores de entrenamiento y prueba es menor (menos overfitting)."
   ]
  },
  {
   "cell_type": "markdown",
   "metadata": {
    "slideshow": {
     "slide_type": "slide"
    }
   },
   "source": [
    "## Sección 2: Predicción de edad\n"
   ]
  },
  {
   "cell_type": "markdown",
   "metadata": {
    "slideshow": {
     "slide_type": "slide"
    }
   },
   "source": [
    "Se solicita elaborar una máquina capaz de realizar una predicción de la edad de una persona en una foto. Dado el formato con el que se entregan los datos a predecir este problema presentado corresponde a elaborar un clasificador, es decir, dado un input con distintas variables, predecir un output que consiste en asignar una etiqueta, siendo esta un rango etario específico para dicha entrada. Sin embargo se realizará una manipulación de dichos datos para que cada $y_{i}$ sea un valor perteneciente al rango de valores correspondiente a su etiqueta original; por ejemplo, dado un $y_{k}=5$, después de manipular los datos $y_{k} \\in [3-6]$.\n",
    "\n",
    "Para la solución de un problema se realizará un modelo de regresión lineal que será entrenado y testeado a partir de la información de alto nivel dispuesta para la realización se la tarea. Muchos de estos datos correspondientes a matrices, serán de igual manera manipulados y transformados en vectores para una mayor facilidad en su uso."
   ]
  },
  {
   "cell_type": "markdown",
   "metadata": {},
   "source": [
    "En primera instancia se cargan los datos y estos son organizados según su naturaleza, siendo estos matrices o vectores."
   ]
  },
  {
   "cell_type": "code",
   "execution_count": 76,
   "metadata": {
    "slideshow": {
     "slide_type": "slide"
    }
   },
   "outputs": [],
   "source": [
    "import scipy.io as sio\n",
    "import pandas as pd\n",
    "import numpy as np\n",
    "import scipy as scp\n",
    "import matplotlib.pyplot as plt\n",
    "import random\n",
    "from sklearn.preprocessing import StandardScaler\n",
    "from sklearn.linear_model import LinearRegression, Ridge, Lasso\n",
    "from sklearn.metrics import mean_absolute_error, mean_squared_error\n",
    "from sklearn.model_selection import KFold, LeaveOneOut\n",
    "from ipywidgets import interactive"
   ]
  },
  {
   "cell_type": "code",
   "execution_count": 96,
   "metadata": {},
   "outputs": [
    {
     "data": {
      "text/plain": [
       "array([[104, 108, 112, ...,  83,  80,  82],\n",
       "       [237, 197, 118, ..., 186, 219, 226],\n",
       "       [ 66,  66,  55, ...,  82,  77,  65],\n",
       "       ...,\n",
       "       [ 50,  52,  36, ...,  65,  70,  70],\n",
       "       [ 63,  48,  62, ..., 148, 153, 157],\n",
       "       [124, 127, 131, ...,  89, 134, 182]], dtype=uint8)"
      ]
     },
     "execution_count": 96,
     "metadata": {},
     "output_type": "execute_result"
    }
   ],
   "source": [
    "archivo = sio.loadmat(\"eventrain.mat\")\n",
    "archivo2 = sio.loadmat(\"eventest.mat\")\n",
    "data = archivo[\"trcoll\"][0][0] # \"trcoll\" set de entrenamiento\n",
    "\n",
    "#print(type(archivo[\"trcoll\"]))\n",
    "#print(archivo[\"trcoll\"].shape)\n",
    "#print(type(archivo[\"trcoll\"][0][0]))\n",
    "#print(archivo[\"trcoll\"][0][0].shape)\n",
    "#archivo[\"trcoll\"][0][0]['ageClass']\n",
    "#archivo[\"trcoll\"][0][0]['genClass']\n",
    "#archivo[\"trcoll\"][0][0]['genFeat']\n",
    "#archivo[\"trcoll\"][0][0]['faceGist']\n",
    "#archivo[\"trcoll\"][0][0]['ageGuess1']\n",
    "#archivo[\"trcoll\"][0][0]['genderGuessNN']\n",
    "#archivo[\"trcoll\"][0][0]['facePosSize']\n",
    "\n",
    "#----------------------DATOS------------------------\n",
    "features      = data[0]            #matriz 3500x15\n",
    "age           = data[1].flatten()  #vector 3500x1\n",
    "gender        = data[2].flatten()  #vector 3500x1\n",
    "ffcoefs       = data[3]            #matriz 3500x37\n",
    "facegist      = data[4]            #matriz 3500x600\n",
    "unknown1      = data[5]            #matriz 3500x2989\n",
    "genderguessnn = data[6].flatten()  #vector 3500x1\n",
    "ageguess      = data[7].flatten()  #vector 3500x1\n",
    "facedata      = data[8]            #...\n",
    "faceposize    = data[9]            #matriz 3500x7\n",
    "genaccuracies = data[10]           #matriz 3500x2\n",
    "\n",
    "for i in range(len(age)):\n",
    "    if age[i] == 1:\n",
    "        age[i] = random.randint(1,2)\n",
    "    elif age[i] == 5:\n",
    "        age[i] = random.randint(3,7)\n",
    "    elif age[i] == 10:\n",
    "        age[i] = random.randint(8,12)\n",
    "    elif age[i] == 16:\n",
    "        age[i] = random.randint(13,19)\n",
    "    elif age[i] == 28:\n",
    "        age[i] = random.randint(20,36)\n",
    "    elif age[i] == 51:\n",
    "        age[i] = random.randint(37,65)\n",
    "    else:\n",
    "        age[i] = random.randint(66,100)\n",
    "age = age.tolist()\n",
    "gender = gender.tolist()\n",
    "for i in range(len(gender)):\n",
    "    if gender[i] == 1:\n",
    "        gender[i]=0\n",
    "    else:\n",
    "        gender[i]=1\n",
    "genderguessnn = genderguessnn.tolist()\n",
    "ageguess = ageguess.tolist()\n",
    "xtr = np.array([gender, genderguessnn, ageguess]).T\n",
    "columns = [\"gender\",\"genderguenn\",\"ageguess\"]\n",
    "df = pd.DataFrame(data=xtr, columns=columns)\n",
    "X_traindata = df.values\n",
    "unknown1"
   ]
  },
  {
   "cell_type": "markdown",
   "metadata": {
    "slideshow": {
     "slide_type": "slide"
    }
   },
   "source": [
    "El siguiente paso consiste en \"preparar\", separando en los ejemplos las variables correspondientes a las entradas $X$ y las salidas $Y$. Se realizar la regresión lineal. Cabe aclarar que se sigue utilizando el formato de los rangos etarios utilizados por el proveedor de datos, es decir: $1:[0-2]; 5:[3-7]; 10:[8-12]; 16:[13-19]; 28:[20-36]; 51:[37-65]; 75:[66+]$.\n",
    "\n",
    "Para los datos de entrada del primer modelo predictor se hará uso de solamente los vectores presentes en el dataset, es decir, aquellos que tengan dimensiones $3500x1$."
   ]
  },
  {
   "cell_type": "code",
   "execution_count": 78,
   "metadata": {
    "slideshow": {
     "slide_type": "slide"
    }
   },
   "outputs": [],
   "source": [
    "std = StandardScaler()\n",
    "std.fit(X_traindata)\n",
    "Xstd_train = std.transform(X_traindata)\n",
    "\n",
    "model = LinearRegression(fit_intercept=True)\n",
    "\n",
    "#entrenamiento:\n",
    "model.fit(Xstd_train, age)\n",
    "y_train = model.predict(Xstd_train)"
   ]
  },
  {
   "cell_type": "markdown",
   "metadata": {
    "slideshow": {
     "slide_type": "slide"
    }
   },
   "source": [
    "Enseguida se preparan los datos para realizar el \"testeo\" del modelo previamente entrenado"
   ]
  },
  {
   "cell_type": "code",
   "execution_count": 79,
   "metadata": {
    "slideshow": {
     "slide_type": "slide"
    }
   },
   "outputs": [
    {
     "name": "stdout",
     "output_type": "stream",
     "text": [
      "[[ 0.          0.46534653  3.62191781]\n",
      " [ 0.          0.34653465 29.77808219]\n",
      " [ 0.          0.46534653 32.3890411 ]\n",
      " ...\n",
      " [ 0.          0.26732673 29.61917808]\n",
      " [ 0.          0.57425743 32.57260274]\n",
      " [ 0.          0.31683168 20.59452055]]\n"
     ]
    }
   ],
   "source": [
    "datatest = archivo2[\"tecoll\"][0][0] # \"tecoll\" set de prueba\n",
    "tfeatures      = datatest[0]            #matriz 3500x15\n",
    "tage           = datatest[1].flatten()  #vector 3500x1\n",
    "tgender        = datatest[2].flatten()  #vector 3500x1\n",
    "tffcoefs       = datatest[3]            #matriz 3500x37\n",
    "tfacegist      = datatest[4]            #matriz 3500x600\n",
    "tunknown1      = datatest[5]            #matriz 3500x2989\n",
    "tgenderguessnn = datatest[6].flatten()  #vector 3500x1\n",
    "tageguess      = datatest[7].flatten()  #vector 3500x1\n",
    "tfacedata      = datatest[8]            #...\n",
    "tfaceposize    = datatest[9]            #matriz 3500x7\n",
    "tgenaccuracies = datatest[10]           #matriz 3500x2\n",
    "\n",
    "for i in range(len(tage)):\n",
    "    if tage[i] == 1:\n",
    "        tage[i] = random.randint(1,2)\n",
    "    elif tage[i] == 5:\n",
    "        tage[i] = random.randint(3,7)\n",
    "    elif tage[i] == 10:\n",
    "        tage[i] = random.randint(8,12)\n",
    "    elif tage[i] == 16:\n",
    "        tage[i] = random.randint(13,19)\n",
    "    elif tage[i] == 28:\n",
    "        tage[i] = random.randint(20,36)\n",
    "    elif tage[i] == 51:\n",
    "        tage[i] = random.randint(37,65)\n",
    "    else:\n",
    "        tage[i] = random.randint(66,100)\n",
    "tage = tage.tolist()\n",
    "tgender = tgender.tolist()\n",
    "for i in range(len(tgender)):\n",
    "    if tgender[i] == 1:\n",
    "        tgender[i]=0\n",
    "    else:\n",
    "        tgender[i]=1\n",
    "\n",
    "\n",
    "tgenderguessnn = tgenderguessnn.tolist()\n",
    "tageguess = tageguess.tolist()\n",
    "xte = np.array([tgender,tgenderguessnn, tageguess]).T\n",
    "columns = [\"gender\",\"genderguenn\",\"ageguess\"]\n",
    "df_test = pd.DataFrame(data=xte, columns=columns)\n",
    "X_testdata = df_test.values\n",
    "print(X_testdata)\n",
    "std = StandardScaler()\n",
    "std.fit(X_testdata)\n",
    "Xstd_test = std.transform(X_testdata)\n",
    "#prueba:\n",
    "y_test = model.predict(Xstd_test)"
   ]
  },
  {
   "cell_type": "markdown",
   "metadata": {
    "slideshow": {
     "slide_type": "slide"
    }
   },
   "source": [
    "Finalmente usamos la \"mean absolute percentage error\" para obtener la pérdida "
   ]
  },
  {
   "cell_type": "code",
   "execution_count": 80,
   "metadata": {
    "slideshow": {
     "slide_type": "slide"
    }
   },
   "outputs": [],
   "source": [
    "Er_tr=[]\n",
    "Er_te=[]\n",
    "Loss_tr=[]\n",
    "Loss_te=[]\n",
    "\n",
    "def mean_absolute_percentage_error(y_true, y_pred): \n",
    "    return np.mean(np.abs((y_true - y_pred) / y_true)) * 100\n",
    "\n",
    "#errores de entrenamiento\n",
    "for i in range(len(age)):\n",
    "    error=(age[i]-y_train[i])\n",
    "    Loss_tr.append(mean_absolute_percentage_error(age[i], y_train[i]))\n",
    "    Er_tr.append(error)\n",
    "\n",
    "#errores de predicción\n",
    "for i in range(len(tage)):\n",
    "    error=(tage[i]-y_test[i])\n",
    "    Er_te.append(error)\n",
    "    Loss_te.append(mean_absolute_percentage_error(tage[i], y_test[i]))\n",
    "    "
   ]
  },
  {
   "cell_type": "markdown",
   "metadata": {
    "slideshow": {
     "slide_type": "slide"
    }
   },
   "source": [
    "Ahora, se realizan los gráficos correspondientes con el fin de poder analizar los resultados:"
   ]
  },
  {
   "cell_type": "code",
   "execution_count": 81,
   "metadata": {
    "slideshow": {
     "slide_type": "slide"
    }
   },
   "outputs": [
    {
     "data": {
      "text/plain": [
       "[<matplotlib.lines.Line2D at 0x27f1579dc18>]"
      ]
     },
     "execution_count": 81,
     "metadata": {},
     "output_type": "execute_result"
    },
    {
     "data": {
      "image/png": "[encoded data removed]",
      "text/plain": [
       "<Figure size 576x288 with 1 Axes>"
      ]
     },
     "metadata": {},
     "output_type": "display_data"
    },
    {
     "data": {
      "image/png": "[encoded data removed]",
      "text/plain": [
       "<Figure size 576x288 with 1 Axes>"
      ]
     },
     "metadata": {},
     "output_type": "display_data"
    },
    {
     "data": {
      "image/png": "[encoded data removed]",
      "text/plain": [
       "<Figure size 576x288 with 1 Axes>"
      ]
     },
     "metadata": {},
     "output_type": "display_data"
    },
    {
     "data": {
      "image/png": "[encoded data removed]",
      "text/plain": [
       "<Figure size 576x288 with 1 Axes>"
      ]
     },
     "metadata": {},
     "output_type": "display_data"
    }
   ],
   "source": [
    "xtrain=list(range(1,len(Er_tr)+1))\n",
    "\n",
    "\n",
    "plt.figure(figsize=(8,4))\n",
    "plt.title(\"Error de entrenamiento\")\n",
    "plt.xlabel(\"Iteraciones\")\n",
    "plt.ylabel(\"Error\")\n",
    "plt.plot(xtrain,Er_tr,'g-',label='Error de entrenamiento (R)',linewidth=3,alpha=0.5)\n",
    "\n",
    "plt.figure(figsize=(8,4))\n",
    "plt.title(\"Pérdida de entrenamiento\")\n",
    "plt.xlabel(\"Iteraciones\")\n",
    "plt.ylabel(\"Pérdida\")\n",
    "plt.plot(xtrain,Loss_tr,'r-',label='Pérdida de entrenamiento (R)',linewidth=3,alpha=0.5)\n",
    "\n",
    "xtest=list(range(1,len(Er_te)+1))\n",
    "\n",
    "plt.figure(figsize=(8,4))\n",
    "plt.title(\"Error de prueba\")\n",
    "plt.xlabel(\"Iteraciones\")\n",
    "plt.ylabel(\"Error\")\n",
    "plt.plot(xtest,Er_te,'g-',label='Error de prueba (R)',linewidth=3,alpha=0.5)\n",
    "\n",
    "plt.figure(figsize=(8,4))\n",
    "plt.title(\"Pérdida de prueba\")\n",
    "plt.xlabel(\"Iteraciones\")\n",
    "plt.ylabel(\"Pérdida\")\n",
    "plt.plot(xtest,Loss_te,'r-',label='Pérdida de prueba (R)',linewidth=3,alpha=0.5)"
   ]
  },
  {
   "cell_type": "markdown",
   "metadata": {
    "slideshow": {
     "slide_type": "slide"
    }
   },
   "source": [
    "De los gráficos es posible apreciar que el rendimiento tanto en el entrenamiento como en el testeo difieren uno del otro, siendo mucho más notoria la diferencia al graficar la pérdida. Además, el error que estos presentan es bastante alto demostrando la poca precisión que tiene el algoritmo; desde aquí podemos apreciar que, a pesar de que los valores reales correspondían a un rango etario, situación que permite un pequeño error, cuya magnitud no supera, en promedio, las diez unidades, para el valor predicho, los valores que se obtuvieron con el set de prueba suelen sobrepasar este error \"permitido\". Este bajo rendimiento se puede relacionar a la poca influencia que tienen los datos ocupados para el entrenamiento dentro del resultado precedido.\n",
    "\n",
    "Sin embargo, se puede rescatar que el rendimiento para el set de prueba es mucho mejor para la predicción en el conjunto de testeo que en el conjunto de datos de entrenamiento. Dicho resultado puede estar relacionado con que la cantidad de datos usados para la prueba es menor que la cantidad usada para el entrenamiento, dando lugar a una menor varianza entre los datos nombrados al principio. \n",
    "\n",
    "Para la pérdida de prueba podemos notar un extraño comportamiento en las últimas iteraciones, el cual puede ser consecuencia de overfitting."
   ]
  },
  {
   "cell_type": "code",
   "execution_count": 82,
   "metadata": {
    "slideshow": {
     "slide_type": "slide"
    }
   },
   "outputs": [
    {
     "data": {
      "text/plain": [
       "[<matplotlib.lines.Line2D at 0x27f15199518>]"
      ]
     },
     "execution_count": 82,
     "metadata": {},
     "output_type": "execute_result"
    },
    {
     "data": {
      "image/png": "[encoded data removed]",
      "text/plain": [
       "<Figure size 432x288 with 1 Axes>"
      ]
     },
     "metadata": {},
     "output_type": "display_data"
    }
   ],
   "source": [
    "plt.plot(tage,y_test.tolist(),'o')\n",
    "plt.title(\"conjunto predicciones vs resultados reales:\")\n",
    "plt.plot(np.linspace(0,80),np.linspace(0,80))"
   ]
  },
  {
   "cell_type": "code",
   "execution_count": 83,
   "metadata": {
    "slideshow": {
     "slide_type": "slide"
    }
   },
   "outputs": [
    {
     "data": {
      "text/plain": [
       "<ErrorbarContainer object of 3 artists>"
      ]
     },
     "execution_count": 83,
     "metadata": {},
     "output_type": "execute_result"
    },
    {
     "data": {
      "image/png": "[encoded data removed]",
      "text/plain": [
       "<Figure size 432x288 with 1 Axes>"
      ]
     },
     "metadata": {},
     "output_type": "display_data"
    }
   ],
   "source": [
    "y_testmenosdenso = y_test.tolist()[:10]\n",
    "tage_menosdenso = tage[:10]\n",
    "plt.plot(tage_menosdenso,y_testmenosdenso, 'o')\n",
    "plt.title(\"qq plot para conjunto predicciones vs resultados reales:\")\n",
    "plt.plot(np.linspace(0,50),np.linspace(0,50))\n",
    "plt.errorbar(tage_menosdenso,y_testmenosdenso, yerr=4,fmt=' ')"
   ]
  },
  {
   "cell_type": "markdown",
   "metadata": {
    "slideshow": {
     "slide_type": "slide"
    }
   },
   "source": [
    "En el gráfico qq que compara los valores predichos con los reales se aprecia de manera más evidente que aun considerando los errores aceptable que se desprenden de los rangos etarios correspondientes a $Y$, los valores predichos varían mucho más que en dicho error previamente nombrado."
   ]
  },
  {
   "cell_type": "markdown",
   "metadata": {
    "slideshow": {
     "slide_type": "slide"
    }
   },
   "source": [
    "Buscando obtener nuevos resultados, se realiza un nuevo modelo con respecto a otras características de las imágenes. Estas son las correspondientes a la matriz \"facePosSize\" que contiene distintas características acerca de las caras y las posiciones de estas con respecto a la cámara con la cual fue tomada la foto. Principalmente se escogen estos datos ya que influyen directamente en la composición de la cara, factor principal para predecir la apariencia."
   ]
  },
  {
   "cell_type": "code",
   "execution_count": 84,
   "metadata": {
    "slideshow": {
     "slide_type": "slide"
    }
   },
   "outputs": [],
   "source": [
    "age\n",
    "faceposize\n",
    "columns2 = [\"leftEyeX\", \"leftEyeY\" ,\"rightEyeX\", \"rightEyeY\", \"Xcenter\", \"YCenter\", \"EyeDistance\"]\n",
    "df2 = pd.DataFrame(data=faceposize, columns=columns2)\n",
    "X2_traindata=df2.values\n",
    "X2_traindata\n",
    "std = StandardScaler()\n",
    "std.fit(X2_traindata)\n",
    "X2std_train = std.transform(X2_traindata)\n",
    "\n",
    "model = LinearRegression(fit_intercept=True)\n",
    "\n",
    "#entrenamiento:\n",
    "model.fit(X2std_train, age)\n",
    "y2_train = model.predict(X2std_train)\n",
    "\n",
    "#test:\n",
    "tfaceposize\n",
    "df2_test = pd.DataFrame(data=tfaceposize, columns=columns2)\n",
    "X2_testdata = df2_test.values\n",
    "std = StandardScaler()\n",
    "std.fit(X2_testdata)\n",
    "X2std_test = std.transform(X2_testdata)\n",
    "#prueba:\n",
    "y2_test = model.predict(X2std_test)\n",
    "\n",
    "#errores y pérdidas:\n",
    "Er_tr2=[]\n",
    "Er_te2=[]\n",
    "Loss_tr2=[]\n",
    "Loss_te2=[]\n",
    "\n",
    "#errores de entrenamiento\n",
    "for i in range(len(age)):\n",
    "    error=(age[i]-y2_train[i])\n",
    "    Loss_tr2.append(mean_absolute_percentage_error(age[i], y2_train[i]))\n",
    "    Er_tr2.append(error)\n",
    "\n",
    "#errores de predicción\n",
    "for i in range(len(tage)):\n",
    "    error=(tage[i]-y2_test[i])\n",
    "    Er_te2.append(error)\n",
    "    Loss_te2.append(mean_absolute_percentage_error(tage[i], y2_test[i]))"
   ]
  },
  {
   "cell_type": "markdown",
   "metadata": {
    "slideshow": {
     "slide_type": "slide"
    }
   },
   "source": [
    "Dados los resultados, se realizan los gráficos previamente hecho con el fin de contrastar los nuevos resultados con los ya obtenidos en el primer modelo."
   ]
  },
  {
   "cell_type": "code",
   "execution_count": 85,
   "metadata": {
    "slideshow": {
     "slide_type": "slide"
    }
   },
   "outputs": [
    {
     "data": {
      "text/plain": [
       "[<matplotlib.lines.Line2D at 0x27f1372a550>]"
      ]
     },
     "execution_count": 85,
     "metadata": {},
     "output_type": "execute_result"
    },
    {
     "data": {
      "image/png": "[encoded data removed]",
      "text/plain": [
       "<Figure size 576x288 with 1 Axes>"
      ]
     },
     "metadata": {},
     "output_type": "display_data"
    },
    {
     "data": {
      "image/png": "[encoded data removed]",
      "text/plain": [
       "<Figure size 576x288 with 1 Axes>"
      ]
     },
     "metadata": {},
     "output_type": "display_data"
    },
    {
     "data": {
      "image/png": "[encoded data removed]",
      "text/plain": [
       "<Figure size 576x288 with 1 Axes>"
      ]
     },
     "metadata": {},
     "output_type": "display_data"
    },
    {
     "data": {
      "image/png": "[encoded data removed]",
      "text/plain": [
       "<Figure size 576x288 with 1 Axes>"
      ]
     },
     "metadata": {},
     "output_type": "display_data"
    }
   ],
   "source": [
    "x2train=list(range(1,len(Er_tr2)+1))\n",
    "\n",
    "\n",
    "plt.figure(figsize=(8,4))\n",
    "plt.title(\"Error de entrenamiento\")\n",
    "plt.xlabel(\"Iteraciones\")\n",
    "plt.ylabel(\"Error\")\n",
    "plt.plot(x2train,Er_tr2,'g-',label='Error de entrenamiento (R)',linewidth=3,alpha=0.5)\n",
    "\n",
    "plt.figure(figsize=(8,4))\n",
    "plt.title(\"Pérdida de entrenamiento\")\n",
    "plt.xlabel(\"Iteraciones\")\n",
    "plt.ylabel(\"Pérdida\")\n",
    "plt.plot(x2train,Loss_tr2,'r-',label='Pérdida de entrenamiento (R)',linewidth=3,alpha=0.5)\n",
    "\n",
    "x2test=list(range(1,len(Er_te2)+1))\n",
    "\n",
    "plt.figure(figsize=(8,4))\n",
    "plt.title(\"Error de prueba\")\n",
    "plt.xlabel(\"Iteraciones\")\n",
    "plt.ylabel(\"Error\")\n",
    "plt.plot(x2test,Er_te2,'g-',label='Error de prueba (R)',linewidth=3,alpha=0.5)\n",
    "\n",
    "plt.figure(figsize=(8,4))\n",
    "plt.title(\"Pérdida de prueba\")\n",
    "plt.xlabel(\"Iteraciones\")\n",
    "plt.ylabel(\"Pérdida\")\n",
    "plt.plot(x2test,Loss_te2,'r-',label='Pérdida de prueba (R)',linewidth=3,alpha=0.5)"
   ]
  },
  {
   "cell_type": "code",
   "execution_count": 86,
   "metadata": {
    "slideshow": {
     "slide_type": "slide"
    }
   },
   "outputs": [
    {
     "data": {
      "text/plain": [
       "[<matplotlib.lines.Line2D at 0x27f13ce5c18>]"
      ]
     },
     "execution_count": 86,
     "metadata": {},
     "output_type": "execute_result"
    },
    {
     "data": {
      "image/png": "[encoded data removed]",
      "text/plain": [
       "<Figure size 432x288 with 1 Axes>"
      ]
     },
     "metadata": {},
     "output_type": "display_data"
    }
   ],
   "source": [
    "plt.plot(tage,y2_test.tolist(),'o')\n",
    "plt.title(\"conjunto predicciones vs resultados reales:\")\n",
    "plt.plot(np.linspace(0,80),np.linspace(0,80))\n",
    "\n"
   ]
  },
  {
   "cell_type": "code",
   "execution_count": 87,
   "metadata": {
    "slideshow": {
     "slide_type": "slide"
    }
   },
   "outputs": [
    {
     "data": {
      "text/plain": [
       "<ErrorbarContainer object of 3 artists>"
      ]
     },
     "execution_count": 87,
     "metadata": {},
     "output_type": "execute_result"
    },
    {
     "data": {
      "image/png": "[encoded data removed]",
      "text/plain": [
       "<Figure size 432x288 with 1 Axes>"
      ]
     },
     "metadata": {},
     "output_type": "display_data"
    }
   ],
   "source": [
    "y2_testmenosdenso = y2_test.tolist()[:10]\n",
    "tage_menosdenso = tage[:10]\n",
    "plt.plot(tage_menosdenso,y2_testmenosdenso, 'o')\n",
    "plt.title(\"conjunto predicciones vs resultados reales:\")\n",
    "plt.plot(np.linspace(0,30),np.linspace(0,30))\n",
    "plt.errorbar(tage_menosdenso,y2_testmenosdenso, yerr=4,fmt=' ')"
   ]
  },
  {
   "cell_type": "markdown",
   "metadata": {
    "slideshow": {
     "slide_type": "slide"
    }
   },
   "source": [
    "Los resultados obtenidos son bastante similares a los obtenidos con anterioridad cuando a los errores respecta. Se puede apreciar un aumento en el mayor valor presente correspondiente al error de prueba para el segundo modelo, superando en varias miles de unidades a la anterior solución. \n",
    "\n",
    "El modelo sigue presentando un comportamiento anómalo de la pérdida a medida que aumentan las iteraciones. +\n",
    "\n",
    "La diferencia para ambos modelos es apreciable en el graficos que contrapone los $y$ reales con los $\\hat{y}$ "
   ]
  },
  {
   "cell_type": "markdown",
   "metadata": {
    "slideshow": {
     "slide_type": "slide"
    }
   },
   "source": [
    "Para finalizar se realizará un último modelo que utilizará otro conjunto de datos relacionado con características faciales. Esta vez hablamos de la matriz ffcoefs, donde cada fila es una proyección de dicha cara (la correspondiente a la fila) dentro de un espacio fisherFace."
   ]
  },
  {
   "cell_type": "code",
   "execution_count": 88,
   "metadata": {
    "slideshow": {
     "slide_type": "slide"
    }
   },
   "outputs": [],
   "source": [
    "age\n",
    "ffcoefs\n",
    "df3 = pd.DataFrame(data=ffcoefs)\n",
    "X3_traindata = df3.values\n",
    "X3_traindata\n",
    "std = StandardScaler()\n",
    "std.fit(X3_traindata)\n",
    "X3std_train = std.transform(X3_traindata)\n",
    "\n",
    "model = LinearRegression(fit_intercept=True)\n",
    "\n",
    "#entrenamiento:\n",
    "model.fit(X3std_train, age)\n",
    "y3_train = model.predict(X3std_train)\n",
    "\n",
    "#test:\n",
    "tffcoefs\n",
    "df3_test = pd.DataFrame(data=tffcoefs)\n",
    "X3_testdata = df3_test.values\n",
    "std = StandardScaler()\n",
    "std.fit(X3_testdata)\n",
    "X3std_test = std.transform(X3_testdata)\n",
    "#prueba:\n",
    "y3_test = model.predict(X3std_test)\n",
    "\n",
    "#errores y pérdidas:\n",
    "Er_tr3=[]\n",
    "Er_te3=[]\n",
    "Loss_tr3=[]\n",
    "Loss_te3=[]\n",
    "\n",
    "#errores de entrenamiento\n",
    "for i in range(len(age)):\n",
    "    error=(age[i]-y3_train[i])\n",
    "    Loss_tr3.append(mean_absolute_percentage_error(age[i], y3_train[i]))\n",
    "    Er_tr3.append(error)\n",
    "\n",
    "#errores de predicción\n",
    "for i in range(len(tage)):\n",
    "    error=(tage[i]-y3_test[i])\n",
    "    Er_te3.append(error)\n",
    "    Loss_te3.append(mean_absolute_percentage_error(tage[i], y3_test[i]))"
   ]
  },
  {
   "cell_type": "code",
   "execution_count": 89,
   "metadata": {
    "slideshow": {
     "slide_type": "slide"
    }
   },
   "outputs": [
    {
     "data": {
      "text/plain": [
       "[<matplotlib.lines.Line2D at 0x27f15547198>]"
      ]
     },
     "execution_count": 89,
     "metadata": {},
     "output_type": "execute_result"
    },
    {
     "data": {
      "image/png": "[encoded data removed]",
      "text/plain": [
       "<Figure size 576x288 with 1 Axes>"
      ]
     },
     "metadata": {},
     "output_type": "display_data"
    },
    {
     "data": {
      "image/png": "[encoded data removed]",
      "text/plain": [
       "<Figure size 576x288 with 1 Axes>"
      ]
     },
     "metadata": {},
     "output_type": "display_data"
    },
    {
     "data": {
      "image/png": "[encoded data removed]",
      "text/plain": [
       "<Figure size 576x288 with 1 Axes>"
      ]
     },
     "metadata": {},
     "output_type": "display_data"
    },
    {
     "data": {
      "image/png": "[encoded data removed]",
      "text/plain": [
       "<Figure size 576x288 with 1 Axes>"
      ]
     },
     "metadata": {},
     "output_type": "display_data"
    }
   ],
   "source": [
    "x3train=list(range(1,len(Er_tr3)+1))\n",
    "\n",
    "\n",
    "plt.figure(figsize=(8,4))\n",
    "plt.title(\"Error de entrenamiento\")\n",
    "plt.xlabel(\"Iteraciones\")\n",
    "plt.ylabel(\"Error\")\n",
    "plt.plot(x3train,Er_tr3,'g-',label='Error de entrenamiento (R)',linewidth=3,alpha=0.5)\n",
    "\n",
    "plt.figure(figsize=(8,4))\n",
    "plt.title(\"Pérdida de entrenamiento\")\n",
    "plt.xlabel(\"Iteraciones\")\n",
    "plt.ylabel(\"Pérdida\")\n",
    "plt.plot(x3train,Loss_tr3,'r-',label='Pérdida de entrenamiento (R)',linewidth=3,alpha=0.5)\n",
    "\n",
    "x3test=list(range(1,len(Er_te3)+1))\n",
    "\n",
    "plt.figure(figsize=(8,4))\n",
    "plt.title(\"Error de prueba\")\n",
    "plt.xlabel(\"Iteraciones\")\n",
    "plt.ylabel(\"Error\")\n",
    "plt.plot(x3test,Er_te3,'g-',label='Error de prueba (R)',linewidth=3,alpha=0.5)\n",
    "\n",
    "plt.figure(figsize=(8,4))\n",
    "plt.title(\"Pérdida de prueba\")\n",
    "plt.xlabel(\"Iteraciones\")\n",
    "plt.ylabel(\"Pérdida\")\n",
    "plt.plot(x3test,Loss_te3,'r-',label='Pérdida de prueba (R)',linewidth=3,alpha=0.5)"
   ]
  },
  {
   "cell_type": "code",
   "execution_count": 90,
   "metadata": {
    "slideshow": {
     "slide_type": "slide"
    }
   },
   "outputs": [
    {
     "data": {
      "text/plain": [
       "[<matplotlib.lines.Line2D at 0x27f15646e48>]"
      ]
     },
     "execution_count": 90,
     "metadata": {},
     "output_type": "execute_result"
    },
    {
     "data": {
      "image/png": "[encoded data removed]",
      "text/plain": [
       "<Figure size 432x288 with 1 Axes>"
      ]
     },
     "metadata": {},
     "output_type": "display_data"
    }
   ],
   "source": [
    "plt.plot(tage,y3_test.tolist(),'o')\n",
    "plt.title(\"para conjunto predicciones vs resultados reales:\")\n",
    "plt.plot(np.linspace(0,80),np.linspace(0,80))\n"
   ]
  },
  {
   "cell_type": "code",
   "execution_count": 91,
   "metadata": {
    "slideshow": {
     "slide_type": "slide"
    }
   },
   "outputs": [
    {
     "data": {
      "text/plain": [
       "<ErrorbarContainer object of 3 artists>"
      ]
     },
     "execution_count": 91,
     "metadata": {},
     "output_type": "execute_result"
    },
    {
     "data": {
      "image/png": "[encoded data removed]",
      "text/plain": [
       "<Figure size 432x288 with 1 Axes>"
      ]
     },
     "metadata": {},
     "output_type": "display_data"
    }
   ],
   "source": [
    "y3_testmenosdenso = y3_test.tolist()[:10]\n",
    "tage_menosdenso = tage[:10]\n",
    "plt.plot(tage_menosdenso,y3_testmenosdenso, 'o')\n",
    "plt.title(\"conjunto predicciones vs resultados reales:\")\n",
    "plt.plot(np.linspace(0,50),np.linspace(0,50))\n",
    "plt.errorbar(tage_menosdenso,y3_testmenosdenso, yerr=4,fmt=' ')"
   ]
  },
  {
   "cell_type": "markdown",
   "metadata": {
    "slideshow": {
     "slide_type": "slide"
    }
   },
   "source": [
    "Según los gráficos en los que se muestra la pérdida y los errores, los resultados obtenidos para el tercer modelo siguen la misma línea que los otros dos modelos propuestos con anterioridad, pero al momento de ver la comparación entre los valores reales y aquellos estimados, se puede distinguir un pequeño aumento en la concentración alrededor de la recta 𝑦=𝑥 siendo este el punto en que los ejemplos 𝑦=𝑦̂ \n",
    "En conclusión, los conjuntos de datos influyen de manera similar sobre el resultado final obtenido, no obteniendo en ningún caso optimalidad para la predicción con respecto a las pérdidas y errores."
   ]
  },
  {
   "cell_type": "markdown",
   "metadata": {},
   "source": [
    "Se concluyen que los datos correspondientes a FacePosSize provoca una fuerte pérdida pasadas las 800 iteraciones, mientras que para los datos usado en el primer y tercer modelo, si bien exite una pérdida, esta es mucho menor. \n",
    "\n",
    "Finalmente no se logra generalizar de buena manera ya que el error sobrepasa los límites impuestos por los rangos etarios, y se alejan bastante de las edades aleatorias obtenidas mediante la temprana manipulación de los datos."
   ]
  }
 ],
 "metadata": {
  "celltoolbar": "Slideshow",
  "kernelspec": {
   "display_name": "Python 3",
   "language": "python",
   "name": "python3"
  },
  "language_info": {
   "codemirror_mode": {
    "name": "ipython",
    "version": 3
   },
   "file_extension": ".py",
   "mimetype": "text/x-python",
   "name": "python",
   "nbconvert_exporter": "python",
   "pygments_lexer": "ipython3",
   "version": "3.6.5"
  }
 },
 "nbformat": 4,
 "nbformat_minor": 2
}
